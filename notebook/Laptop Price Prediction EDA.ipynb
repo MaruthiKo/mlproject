{
 "cells": [
  {
   "cell_type": "markdown",
   "id": "d3a52920",
   "metadata": {},
   "source": [
    "### Life cycle of Machine learning Project\n",
    "\n",
    "- Understanding the Problem Statement\n",
    "- Data Collection\n",
    "- Data Checks to perform\n",
    "- Exploratory data analysis\n",
    "- Data Pre-Processing\n",
    "- Model Training\n",
    "- Choose best model"
   ]
  },
  {
   "cell_type": "markdown",
   "id": "262c8728",
   "metadata": {},
   "source": [
    "## Problem Statement \n",
    "\n",
    "- This project ensures how the price of a laptop is affected by features such as RAM, GPU, Inches, Company, OS and so on- \n",
    "\n",
    "## Data Collection\n",
    "\n",
    "- Data Source: https://www.kaggle.com/datasets/muhammetvarl/laptop-price/data\n",
    "- The data consists of 12 columns and 1303 rows"
   ]
  },
  {
   "cell_type": "code",
   "execution_count": 200,
   "id": "a2b6dbda",
   "metadata": {},
   "outputs": [],
   "source": [
    "# Import the necessary Libraries\n",
    "import pandas as pd\n",
    "import numpy as np\n",
    "import seaborn as sns\n",
    "import matplotlib.pyplot as plt\n",
    "import re"
   ]
  },
  {
   "cell_type": "markdown",
   "id": "72eabbff",
   "metadata": {},
   "source": [
    "## Data Preprocessing & Data Cleaning"
   ]
  },
  {
   "cell_type": "code",
   "execution_count": 32,
   "id": "9f1ceeea",
   "metadata": {},
   "outputs": [
    {
     "data": {
      "text/html": [
       "<div>\n",
       "<style scoped>\n",
       "    .dataframe tbody tr th:only-of-type {\n",
       "        vertical-align: middle;\n",
       "    }\n",
       "\n",
       "    .dataframe tbody tr th {\n",
       "        vertical-align: top;\n",
       "    }\n",
       "\n",
       "    .dataframe thead th {\n",
       "        text-align: right;\n",
       "    }\n",
       "</style>\n",
       "<table border=\"1\" class=\"dataframe\">\n",
       "  <thead>\n",
       "    <tr style=\"text-align: right;\">\n",
       "      <th></th>\n",
       "      <th>laptop_ID</th>\n",
       "      <th>Company</th>\n",
       "      <th>Product</th>\n",
       "      <th>TypeName</th>\n",
       "      <th>Inches</th>\n",
       "      <th>ScreenResolution</th>\n",
       "      <th>Cpu</th>\n",
       "      <th>Ram</th>\n",
       "      <th>Memory</th>\n",
       "      <th>Gpu</th>\n",
       "      <th>OpSys</th>\n",
       "      <th>Weight</th>\n",
       "      <th>Price_euros</th>\n",
       "    </tr>\n",
       "  </thead>\n",
       "  <tbody>\n",
       "    <tr>\n",
       "      <th>0</th>\n",
       "      <td>1</td>\n",
       "      <td>Apple</td>\n",
       "      <td>MacBook Pro</td>\n",
       "      <td>Ultrabook</td>\n",
       "      <td>13.3</td>\n",
       "      <td>IPS Panel Retina Display 2560x1600</td>\n",
       "      <td>Intel Core i5 2.3GHz</td>\n",
       "      <td>8GB</td>\n",
       "      <td>128GB SSD</td>\n",
       "      <td>Intel Iris Plus Graphics 640</td>\n",
       "      <td>macOS</td>\n",
       "      <td>1.37kg</td>\n",
       "      <td>1339.69</td>\n",
       "    </tr>\n",
       "    <tr>\n",
       "      <th>1</th>\n",
       "      <td>2</td>\n",
       "      <td>Apple</td>\n",
       "      <td>Macbook Air</td>\n",
       "      <td>Ultrabook</td>\n",
       "      <td>13.3</td>\n",
       "      <td>1440x900</td>\n",
       "      <td>Intel Core i5 1.8GHz</td>\n",
       "      <td>8GB</td>\n",
       "      <td>128GB Flash Storage</td>\n",
       "      <td>Intel HD Graphics 6000</td>\n",
       "      <td>macOS</td>\n",
       "      <td>1.34kg</td>\n",
       "      <td>898.94</td>\n",
       "    </tr>\n",
       "    <tr>\n",
       "      <th>2</th>\n",
       "      <td>3</td>\n",
       "      <td>HP</td>\n",
       "      <td>250 G6</td>\n",
       "      <td>Notebook</td>\n",
       "      <td>15.6</td>\n",
       "      <td>Full HD 1920x1080</td>\n",
       "      <td>Intel Core i5 7200U 2.5GHz</td>\n",
       "      <td>8GB</td>\n",
       "      <td>256GB SSD</td>\n",
       "      <td>Intel HD Graphics 620</td>\n",
       "      <td>No OS</td>\n",
       "      <td>1.86kg</td>\n",
       "      <td>575.00</td>\n",
       "    </tr>\n",
       "    <tr>\n",
       "      <th>3</th>\n",
       "      <td>4</td>\n",
       "      <td>Apple</td>\n",
       "      <td>MacBook Pro</td>\n",
       "      <td>Ultrabook</td>\n",
       "      <td>15.4</td>\n",
       "      <td>IPS Panel Retina Display 2880x1800</td>\n",
       "      <td>Intel Core i7 2.7GHz</td>\n",
       "      <td>16GB</td>\n",
       "      <td>512GB SSD</td>\n",
       "      <td>AMD Radeon Pro 455</td>\n",
       "      <td>macOS</td>\n",
       "      <td>1.83kg</td>\n",
       "      <td>2537.45</td>\n",
       "    </tr>\n",
       "    <tr>\n",
       "      <th>4</th>\n",
       "      <td>5</td>\n",
       "      <td>Apple</td>\n",
       "      <td>MacBook Pro</td>\n",
       "      <td>Ultrabook</td>\n",
       "      <td>13.3</td>\n",
       "      <td>IPS Panel Retina Display 2560x1600</td>\n",
       "      <td>Intel Core i5 3.1GHz</td>\n",
       "      <td>8GB</td>\n",
       "      <td>256GB SSD</td>\n",
       "      <td>Intel Iris Plus Graphics 650</td>\n",
       "      <td>macOS</td>\n",
       "      <td>1.37kg</td>\n",
       "      <td>1803.60</td>\n",
       "    </tr>\n",
       "  </tbody>\n",
       "</table>\n",
       "</div>"
      ],
      "text/plain": [
       "   laptop_ID Company      Product   TypeName  Inches  \\\n",
       "0          1   Apple  MacBook Pro  Ultrabook    13.3   \n",
       "1          2   Apple  Macbook Air  Ultrabook    13.3   \n",
       "2          3      HP       250 G6   Notebook    15.6   \n",
       "3          4   Apple  MacBook Pro  Ultrabook    15.4   \n",
       "4          5   Apple  MacBook Pro  Ultrabook    13.3   \n",
       "\n",
       "                     ScreenResolution                         Cpu   Ram  \\\n",
       "0  IPS Panel Retina Display 2560x1600        Intel Core i5 2.3GHz   8GB   \n",
       "1                            1440x900        Intel Core i5 1.8GHz   8GB   \n",
       "2                   Full HD 1920x1080  Intel Core i5 7200U 2.5GHz   8GB   \n",
       "3  IPS Panel Retina Display 2880x1800        Intel Core i7 2.7GHz  16GB   \n",
       "4  IPS Panel Retina Display 2560x1600        Intel Core i5 3.1GHz   8GB   \n",
       "\n",
       "                Memory                           Gpu  OpSys  Weight  \\\n",
       "0            128GB SSD  Intel Iris Plus Graphics 640  macOS  1.37kg   \n",
       "1  128GB Flash Storage        Intel HD Graphics 6000  macOS  1.34kg   \n",
       "2            256GB SSD         Intel HD Graphics 620  No OS  1.86kg   \n",
       "3            512GB SSD            AMD Radeon Pro 455  macOS  1.83kg   \n",
       "4            256GB SSD  Intel Iris Plus Graphics 650  macOS  1.37kg   \n",
       "\n",
       "   Price_euros  \n",
       "0      1339.69  \n",
       "1       898.94  \n",
       "2       575.00  \n",
       "3      2537.45  \n",
       "4      1803.60  "
      ]
     },
     "execution_count": 32,
     "metadata": {},
     "output_type": "execute_result"
    }
   ],
   "source": [
    "# load the dataset\n",
    "df = pd.read_csv(\"data/laptop_price.csv\",encoding=\"ISO-8859-1\")\n",
    "df.head()"
   ]
  },
  {
   "cell_type": "code",
   "execution_count": 33,
   "id": "7f39125d",
   "metadata": {},
   "outputs": [],
   "source": [
    "# remove laptop_id as we have index\n",
    "df = df.drop([\"laptop_ID\"],axis=1)"
   ]
  },
  {
   "cell_type": "code",
   "execution_count": 34,
   "id": "2f664dc8",
   "metadata": {},
   "outputs": [
    {
     "data": {
      "text/html": [
       "<div>\n",
       "<style scoped>\n",
       "    .dataframe tbody tr th:only-of-type {\n",
       "        vertical-align: middle;\n",
       "    }\n",
       "\n",
       "    .dataframe tbody tr th {\n",
       "        vertical-align: top;\n",
       "    }\n",
       "\n",
       "    .dataframe thead th {\n",
       "        text-align: right;\n",
       "    }\n",
       "</style>\n",
       "<table border=\"1\" class=\"dataframe\">\n",
       "  <thead>\n",
       "    <tr style=\"text-align: right;\">\n",
       "      <th></th>\n",
       "      <th>Company</th>\n",
       "      <th>Product</th>\n",
       "      <th>TypeName</th>\n",
       "      <th>Inches</th>\n",
       "      <th>ScreenResolution</th>\n",
       "      <th>Cpu</th>\n",
       "      <th>Ram</th>\n",
       "      <th>Memory</th>\n",
       "      <th>Gpu</th>\n",
       "      <th>OpSys</th>\n",
       "      <th>Weight</th>\n",
       "      <th>Price_euros</th>\n",
       "    </tr>\n",
       "  </thead>\n",
       "  <tbody>\n",
       "    <tr>\n",
       "      <th>0</th>\n",
       "      <td>Apple</td>\n",
       "      <td>MacBook Pro</td>\n",
       "      <td>Ultrabook</td>\n",
       "      <td>13.3</td>\n",
       "      <td>IPS Panel Retina Display 2560x1600</td>\n",
       "      <td>Intel Core i5 2.3GHz</td>\n",
       "      <td>8GB</td>\n",
       "      <td>128GB SSD</td>\n",
       "      <td>Intel Iris Plus Graphics 640</td>\n",
       "      <td>macOS</td>\n",
       "      <td>1.37kg</td>\n",
       "      <td>1339.69</td>\n",
       "    </tr>\n",
       "    <tr>\n",
       "      <th>1</th>\n",
       "      <td>Apple</td>\n",
       "      <td>Macbook Air</td>\n",
       "      <td>Ultrabook</td>\n",
       "      <td>13.3</td>\n",
       "      <td>1440x900</td>\n",
       "      <td>Intel Core i5 1.8GHz</td>\n",
       "      <td>8GB</td>\n",
       "      <td>128GB Flash Storage</td>\n",
       "      <td>Intel HD Graphics 6000</td>\n",
       "      <td>macOS</td>\n",
       "      <td>1.34kg</td>\n",
       "      <td>898.94</td>\n",
       "    </tr>\n",
       "    <tr>\n",
       "      <th>2</th>\n",
       "      <td>HP</td>\n",
       "      <td>250 G6</td>\n",
       "      <td>Notebook</td>\n",
       "      <td>15.6</td>\n",
       "      <td>Full HD 1920x1080</td>\n",
       "      <td>Intel Core i5 7200U 2.5GHz</td>\n",
       "      <td>8GB</td>\n",
       "      <td>256GB SSD</td>\n",
       "      <td>Intel HD Graphics 620</td>\n",
       "      <td>No OS</td>\n",
       "      <td>1.86kg</td>\n",
       "      <td>575.00</td>\n",
       "    </tr>\n",
       "    <tr>\n",
       "      <th>3</th>\n",
       "      <td>Apple</td>\n",
       "      <td>MacBook Pro</td>\n",
       "      <td>Ultrabook</td>\n",
       "      <td>15.4</td>\n",
       "      <td>IPS Panel Retina Display 2880x1800</td>\n",
       "      <td>Intel Core i7 2.7GHz</td>\n",
       "      <td>16GB</td>\n",
       "      <td>512GB SSD</td>\n",
       "      <td>AMD Radeon Pro 455</td>\n",
       "      <td>macOS</td>\n",
       "      <td>1.83kg</td>\n",
       "      <td>2537.45</td>\n",
       "    </tr>\n",
       "    <tr>\n",
       "      <th>4</th>\n",
       "      <td>Apple</td>\n",
       "      <td>MacBook Pro</td>\n",
       "      <td>Ultrabook</td>\n",
       "      <td>13.3</td>\n",
       "      <td>IPS Panel Retina Display 2560x1600</td>\n",
       "      <td>Intel Core i5 3.1GHz</td>\n",
       "      <td>8GB</td>\n",
       "      <td>256GB SSD</td>\n",
       "      <td>Intel Iris Plus Graphics 650</td>\n",
       "      <td>macOS</td>\n",
       "      <td>1.37kg</td>\n",
       "      <td>1803.60</td>\n",
       "    </tr>\n",
       "  </tbody>\n",
       "</table>\n",
       "</div>"
      ],
      "text/plain": [
       "  Company      Product   TypeName  Inches                    ScreenResolution  \\\n",
       "0   Apple  MacBook Pro  Ultrabook    13.3  IPS Panel Retina Display 2560x1600   \n",
       "1   Apple  Macbook Air  Ultrabook    13.3                            1440x900   \n",
       "2      HP       250 G6   Notebook    15.6                   Full HD 1920x1080   \n",
       "3   Apple  MacBook Pro  Ultrabook    15.4  IPS Panel Retina Display 2880x1800   \n",
       "4   Apple  MacBook Pro  Ultrabook    13.3  IPS Panel Retina Display 2560x1600   \n",
       "\n",
       "                          Cpu   Ram               Memory  \\\n",
       "0        Intel Core i5 2.3GHz   8GB            128GB SSD   \n",
       "1        Intel Core i5 1.8GHz   8GB  128GB Flash Storage   \n",
       "2  Intel Core i5 7200U 2.5GHz   8GB            256GB SSD   \n",
       "3        Intel Core i7 2.7GHz  16GB            512GB SSD   \n",
       "4        Intel Core i5 3.1GHz   8GB            256GB SSD   \n",
       "\n",
       "                            Gpu  OpSys  Weight  Price_euros  \n",
       "0  Intel Iris Plus Graphics 640  macOS  1.37kg      1339.69  \n",
       "1        Intel HD Graphics 6000  macOS  1.34kg       898.94  \n",
       "2         Intel HD Graphics 620  No OS  1.86kg       575.00  \n",
       "3            AMD Radeon Pro 455  macOS  1.83kg      2537.45  \n",
       "4  Intel Iris Plus Graphics 650  macOS  1.37kg      1803.60  "
      ]
     },
     "execution_count": 34,
     "metadata": {},
     "output_type": "execute_result"
    }
   ],
   "source": [
    "df.head()"
   ]
  },
  {
   "cell_type": "code",
   "execution_count": 35,
   "id": "87441e7d",
   "metadata": {},
   "outputs": [
    {
     "data": {
      "text/plain": [
       "(1303, 12)"
      ]
     },
     "execution_count": 35,
     "metadata": {},
     "output_type": "execute_result"
    }
   ],
   "source": [
    "df.shape"
   ]
  },
  {
   "cell_type": "code",
   "execution_count": 36,
   "id": "6829195c",
   "metadata": {},
   "outputs": [
    {
     "data": {
      "text/plain": [
       "Company             0\n",
       "Product             0\n",
       "TypeName            0\n",
       "Inches              0\n",
       "ScreenResolution    0\n",
       "Cpu                 0\n",
       "Ram                 0\n",
       "Memory              0\n",
       "Gpu                 0\n",
       "OpSys               0\n",
       "Weight              0\n",
       "Price_euros         0\n",
       "dtype: int64"
      ]
     },
     "execution_count": 36,
     "metadata": {},
     "output_type": "execute_result"
    }
   ],
   "source": [
    "# Check for null values\n",
    "df.isna().sum()"
   ]
  },
  {
   "cell_type": "code",
   "execution_count": 37,
   "id": "f78f61e8",
   "metadata": {},
   "outputs": [
    {
     "name": "stdout",
     "output_type": "stream",
     "text": [
      "<class 'pandas.core.frame.DataFrame'>\n",
      "RangeIndex: 1303 entries, 0 to 1302\n",
      "Data columns (total 12 columns):\n",
      " #   Column            Non-Null Count  Dtype  \n",
      "---  ------            --------------  -----  \n",
      " 0   Company           1303 non-null   object \n",
      " 1   Product           1303 non-null   object \n",
      " 2   TypeName          1303 non-null   object \n",
      " 3   Inches            1303 non-null   float64\n",
      " 4   ScreenResolution  1303 non-null   object \n",
      " 5   Cpu               1303 non-null   object \n",
      " 6   Ram               1303 non-null   object \n",
      " 7   Memory            1303 non-null   object \n",
      " 8   Gpu               1303 non-null   object \n",
      " 9   OpSys             1303 non-null   object \n",
      " 10  Weight            1303 non-null   object \n",
      " 11  Price_euros       1303 non-null   float64\n",
      "dtypes: float64(2), object(10)\n",
      "memory usage: 122.3+ KB\n"
     ]
    }
   ],
   "source": [
    "df.info()"
   ]
  },
  {
   "cell_type": "code",
   "execution_count": 38,
   "id": "55a6a22c",
   "metadata": {},
   "outputs": [
    {
     "data": {
      "text/html": [
       "<div>\n",
       "<style scoped>\n",
       "    .dataframe tbody tr th:only-of-type {\n",
       "        vertical-align: middle;\n",
       "    }\n",
       "\n",
       "    .dataframe tbody tr th {\n",
       "        vertical-align: top;\n",
       "    }\n",
       "\n",
       "    .dataframe thead th {\n",
       "        text-align: right;\n",
       "    }\n",
       "</style>\n",
       "<table border=\"1\" class=\"dataframe\">\n",
       "  <thead>\n",
       "    <tr style=\"text-align: right;\">\n",
       "      <th></th>\n",
       "      <th>Inches</th>\n",
       "      <th>Price_euros</th>\n",
       "    </tr>\n",
       "  </thead>\n",
       "  <tbody>\n",
       "    <tr>\n",
       "      <th>count</th>\n",
       "      <td>1303.000000</td>\n",
       "      <td>1303.000000</td>\n",
       "    </tr>\n",
       "    <tr>\n",
       "      <th>mean</th>\n",
       "      <td>15.017191</td>\n",
       "      <td>1123.686992</td>\n",
       "    </tr>\n",
       "    <tr>\n",
       "      <th>std</th>\n",
       "      <td>1.426304</td>\n",
       "      <td>699.009043</td>\n",
       "    </tr>\n",
       "    <tr>\n",
       "      <th>min</th>\n",
       "      <td>10.100000</td>\n",
       "      <td>174.000000</td>\n",
       "    </tr>\n",
       "    <tr>\n",
       "      <th>25%</th>\n",
       "      <td>14.000000</td>\n",
       "      <td>599.000000</td>\n",
       "    </tr>\n",
       "    <tr>\n",
       "      <th>50%</th>\n",
       "      <td>15.600000</td>\n",
       "      <td>977.000000</td>\n",
       "    </tr>\n",
       "    <tr>\n",
       "      <th>75%</th>\n",
       "      <td>15.600000</td>\n",
       "      <td>1487.880000</td>\n",
       "    </tr>\n",
       "    <tr>\n",
       "      <th>max</th>\n",
       "      <td>18.400000</td>\n",
       "      <td>6099.000000</td>\n",
       "    </tr>\n",
       "  </tbody>\n",
       "</table>\n",
       "</div>"
      ],
      "text/plain": [
       "            Inches  Price_euros\n",
       "count  1303.000000  1303.000000\n",
       "mean     15.017191  1123.686992\n",
       "std       1.426304   699.009043\n",
       "min      10.100000   174.000000\n",
       "25%      14.000000   599.000000\n",
       "50%      15.600000   977.000000\n",
       "75%      15.600000  1487.880000\n",
       "max      18.400000  6099.000000"
      ]
     },
     "execution_count": 38,
     "metadata": {},
     "output_type": "execute_result"
    }
   ],
   "source": [
    "df.describe()"
   ]
  },
  {
   "cell_type": "code",
   "execution_count": 39,
   "id": "203d4ffa",
   "metadata": {},
   "outputs": [],
   "source": [
    "# Turn the columns names into lower case\n",
    "df = df.rename(columns=str.lower)"
   ]
  },
  {
   "cell_type": "code",
   "execution_count": 40,
   "id": "1602d2a4",
   "metadata": {},
   "outputs": [],
   "source": [
    "# Rename price_euros to price\n",
    "df = df.rename(columns={\"price_euros\":\"price\"})"
   ]
  },
  {
   "cell_type": "code",
   "execution_count": 41,
   "id": "4248fdb2",
   "metadata": {},
   "outputs": [
    {
     "data": {
      "text/html": [
       "<div>\n",
       "<style scoped>\n",
       "    .dataframe tbody tr th:only-of-type {\n",
       "        vertical-align: middle;\n",
       "    }\n",
       "\n",
       "    .dataframe tbody tr th {\n",
       "        vertical-align: top;\n",
       "    }\n",
       "\n",
       "    .dataframe thead th {\n",
       "        text-align: right;\n",
       "    }\n",
       "</style>\n",
       "<table border=\"1\" class=\"dataframe\">\n",
       "  <thead>\n",
       "    <tr style=\"text-align: right;\">\n",
       "      <th></th>\n",
       "      <th>company</th>\n",
       "      <th>product</th>\n",
       "      <th>typename</th>\n",
       "      <th>inches</th>\n",
       "      <th>screenresolution</th>\n",
       "      <th>cpu</th>\n",
       "      <th>ram</th>\n",
       "      <th>memory</th>\n",
       "      <th>gpu</th>\n",
       "      <th>opsys</th>\n",
       "      <th>weight</th>\n",
       "      <th>price</th>\n",
       "    </tr>\n",
       "  </thead>\n",
       "  <tbody>\n",
       "    <tr>\n",
       "      <th>0</th>\n",
       "      <td>Apple</td>\n",
       "      <td>MacBook Pro</td>\n",
       "      <td>Ultrabook</td>\n",
       "      <td>13.3</td>\n",
       "      <td>IPS Panel Retina Display 2560x1600</td>\n",
       "      <td>Intel Core i5 2.3GHz</td>\n",
       "      <td>8GB</td>\n",
       "      <td>128GB SSD</td>\n",
       "      <td>Intel Iris Plus Graphics 640</td>\n",
       "      <td>macOS</td>\n",
       "      <td>1.37kg</td>\n",
       "      <td>1339.69</td>\n",
       "    </tr>\n",
       "    <tr>\n",
       "      <th>1</th>\n",
       "      <td>Apple</td>\n",
       "      <td>Macbook Air</td>\n",
       "      <td>Ultrabook</td>\n",
       "      <td>13.3</td>\n",
       "      <td>1440x900</td>\n",
       "      <td>Intel Core i5 1.8GHz</td>\n",
       "      <td>8GB</td>\n",
       "      <td>128GB Flash Storage</td>\n",
       "      <td>Intel HD Graphics 6000</td>\n",
       "      <td>macOS</td>\n",
       "      <td>1.34kg</td>\n",
       "      <td>898.94</td>\n",
       "    </tr>\n",
       "    <tr>\n",
       "      <th>2</th>\n",
       "      <td>HP</td>\n",
       "      <td>250 G6</td>\n",
       "      <td>Notebook</td>\n",
       "      <td>15.6</td>\n",
       "      <td>Full HD 1920x1080</td>\n",
       "      <td>Intel Core i5 7200U 2.5GHz</td>\n",
       "      <td>8GB</td>\n",
       "      <td>256GB SSD</td>\n",
       "      <td>Intel HD Graphics 620</td>\n",
       "      <td>No OS</td>\n",
       "      <td>1.86kg</td>\n",
       "      <td>575.00</td>\n",
       "    </tr>\n",
       "    <tr>\n",
       "      <th>3</th>\n",
       "      <td>Apple</td>\n",
       "      <td>MacBook Pro</td>\n",
       "      <td>Ultrabook</td>\n",
       "      <td>15.4</td>\n",
       "      <td>IPS Panel Retina Display 2880x1800</td>\n",
       "      <td>Intel Core i7 2.7GHz</td>\n",
       "      <td>16GB</td>\n",
       "      <td>512GB SSD</td>\n",
       "      <td>AMD Radeon Pro 455</td>\n",
       "      <td>macOS</td>\n",
       "      <td>1.83kg</td>\n",
       "      <td>2537.45</td>\n",
       "    </tr>\n",
       "    <tr>\n",
       "      <th>4</th>\n",
       "      <td>Apple</td>\n",
       "      <td>MacBook Pro</td>\n",
       "      <td>Ultrabook</td>\n",
       "      <td>13.3</td>\n",
       "      <td>IPS Panel Retina Display 2560x1600</td>\n",
       "      <td>Intel Core i5 3.1GHz</td>\n",
       "      <td>8GB</td>\n",
       "      <td>256GB SSD</td>\n",
       "      <td>Intel Iris Plus Graphics 650</td>\n",
       "      <td>macOS</td>\n",
       "      <td>1.37kg</td>\n",
       "      <td>1803.60</td>\n",
       "    </tr>\n",
       "  </tbody>\n",
       "</table>\n",
       "</div>"
      ],
      "text/plain": [
       "  company      product   typename  inches                    screenresolution  \\\n",
       "0   Apple  MacBook Pro  Ultrabook    13.3  IPS Panel Retina Display 2560x1600   \n",
       "1   Apple  Macbook Air  Ultrabook    13.3                            1440x900   \n",
       "2      HP       250 G6   Notebook    15.6                   Full HD 1920x1080   \n",
       "3   Apple  MacBook Pro  Ultrabook    15.4  IPS Panel Retina Display 2880x1800   \n",
       "4   Apple  MacBook Pro  Ultrabook    13.3  IPS Panel Retina Display 2560x1600   \n",
       "\n",
       "                          cpu   ram               memory  \\\n",
       "0        Intel Core i5 2.3GHz   8GB            128GB SSD   \n",
       "1        Intel Core i5 1.8GHz   8GB  128GB Flash Storage   \n",
       "2  Intel Core i5 7200U 2.5GHz   8GB            256GB SSD   \n",
       "3        Intel Core i7 2.7GHz  16GB            512GB SSD   \n",
       "4        Intel Core i5 3.1GHz   8GB            256GB SSD   \n",
       "\n",
       "                            gpu  opsys  weight    price  \n",
       "0  Intel Iris Plus Graphics 640  macOS  1.37kg  1339.69  \n",
       "1        Intel HD Graphics 6000  macOS  1.34kg   898.94  \n",
       "2         Intel HD Graphics 620  No OS  1.86kg   575.00  \n",
       "3            AMD Radeon Pro 455  macOS  1.83kg  2537.45  \n",
       "4  Intel Iris Plus Graphics 650  macOS  1.37kg  1803.60  "
      ]
     },
     "execution_count": 41,
     "metadata": {},
     "output_type": "execute_result"
    }
   ],
   "source": [
    "df.head()"
   ]
  },
  {
   "cell_type": "code",
   "execution_count": 42,
   "id": "3945f2a0",
   "metadata": {},
   "outputs": [
    {
     "data": {
      "text/plain": [
       "array(['Apple', 'HP', 'Acer', 'Asus', 'Dell', 'Lenovo', 'Chuwi', 'MSI',\n",
       "       'Microsoft', 'Toshiba', 'Huawei', 'Xiaomi', 'Vero', 'Razer',\n",
       "       'Mediacom', 'Samsung', 'Google', 'Fujitsu', 'LG'], dtype=object)"
      ]
     },
     "execution_count": 42,
     "metadata": {},
     "output_type": "execute_result"
    }
   ],
   "source": [
    "df[\"company\"].unique()"
   ]
  },
  {
   "cell_type": "code",
   "execution_count": 43,
   "id": "5653977e",
   "metadata": {},
   "outputs": [
    {
     "data": {
      "text/plain": [
       "19"
      ]
     },
     "execution_count": 43,
     "metadata": {},
     "output_type": "execute_result"
    }
   ],
   "source": [
    "companies = df[\"company\"].unique()\n",
    "len(companies)"
   ]
  },
  {
   "cell_type": "code",
   "execution_count": 44,
   "id": "e9fd25fb",
   "metadata": {},
   "outputs": [
    {
     "data": {
      "text/plain": [
       "(1303, 12)"
      ]
     },
     "execution_count": 44,
     "metadata": {},
     "output_type": "execute_result"
    }
   ],
   "source": [
    "df.shape"
   ]
  },
  {
   "cell_type": "code",
   "execution_count": 45,
   "id": "e5d756f8",
   "metadata": {},
   "outputs": [],
   "source": [
    "# drop duplicates\n",
    "df = df.drop_duplicates()"
   ]
  },
  {
   "cell_type": "code",
   "execution_count": 46,
   "id": "f038a91f",
   "metadata": {},
   "outputs": [
    {
     "data": {
      "text/plain": [
       "(1275, 12)"
      ]
     },
     "execution_count": 46,
     "metadata": {},
     "output_type": "execute_result"
    }
   ],
   "source": [
    "df.shape"
   ]
  },
  {
   "cell_type": "markdown",
   "id": "18010899",
   "metadata": {},
   "source": [
    "### Converting weight, ram, cpu and memory into numerical data"
   ]
  },
  {
   "cell_type": "code",
   "execution_count": 47,
   "id": "f479b067",
   "metadata": {},
   "outputs": [
    {
     "data": {
      "text/html": [
       "<div>\n",
       "<style scoped>\n",
       "    .dataframe tbody tr th:only-of-type {\n",
       "        vertical-align: middle;\n",
       "    }\n",
       "\n",
       "    .dataframe tbody tr th {\n",
       "        vertical-align: top;\n",
       "    }\n",
       "\n",
       "    .dataframe thead th {\n",
       "        text-align: right;\n",
       "    }\n",
       "</style>\n",
       "<table border=\"1\" class=\"dataframe\">\n",
       "  <thead>\n",
       "    <tr style=\"text-align: right;\">\n",
       "      <th></th>\n",
       "      <th>company</th>\n",
       "      <th>product</th>\n",
       "      <th>typename</th>\n",
       "      <th>inches</th>\n",
       "      <th>screenresolution</th>\n",
       "      <th>cpu</th>\n",
       "      <th>ram</th>\n",
       "      <th>memory</th>\n",
       "      <th>gpu</th>\n",
       "      <th>opsys</th>\n",
       "      <th>weight</th>\n",
       "      <th>price</th>\n",
       "    </tr>\n",
       "  </thead>\n",
       "  <tbody>\n",
       "    <tr>\n",
       "      <th>0</th>\n",
       "      <td>Apple</td>\n",
       "      <td>MacBook Pro</td>\n",
       "      <td>Ultrabook</td>\n",
       "      <td>13.3</td>\n",
       "      <td>IPS Panel Retina Display 2560x1600</td>\n",
       "      <td>Intel Core i5 2.3GHz</td>\n",
       "      <td>8GB</td>\n",
       "      <td>128GB SSD</td>\n",
       "      <td>Intel Iris Plus Graphics 640</td>\n",
       "      <td>macOS</td>\n",
       "      <td>1.37kg</td>\n",
       "      <td>1339.69</td>\n",
       "    </tr>\n",
       "    <tr>\n",
       "      <th>1</th>\n",
       "      <td>Apple</td>\n",
       "      <td>Macbook Air</td>\n",
       "      <td>Ultrabook</td>\n",
       "      <td>13.3</td>\n",
       "      <td>1440x900</td>\n",
       "      <td>Intel Core i5 1.8GHz</td>\n",
       "      <td>8GB</td>\n",
       "      <td>128GB Flash Storage</td>\n",
       "      <td>Intel HD Graphics 6000</td>\n",
       "      <td>macOS</td>\n",
       "      <td>1.34kg</td>\n",
       "      <td>898.94</td>\n",
       "    </tr>\n",
       "    <tr>\n",
       "      <th>2</th>\n",
       "      <td>HP</td>\n",
       "      <td>250 G6</td>\n",
       "      <td>Notebook</td>\n",
       "      <td>15.6</td>\n",
       "      <td>Full HD 1920x1080</td>\n",
       "      <td>Intel Core i5 7200U 2.5GHz</td>\n",
       "      <td>8GB</td>\n",
       "      <td>256GB SSD</td>\n",
       "      <td>Intel HD Graphics 620</td>\n",
       "      <td>No OS</td>\n",
       "      <td>1.86kg</td>\n",
       "      <td>575.00</td>\n",
       "    </tr>\n",
       "    <tr>\n",
       "      <th>3</th>\n",
       "      <td>Apple</td>\n",
       "      <td>MacBook Pro</td>\n",
       "      <td>Ultrabook</td>\n",
       "      <td>15.4</td>\n",
       "      <td>IPS Panel Retina Display 2880x1800</td>\n",
       "      <td>Intel Core i7 2.7GHz</td>\n",
       "      <td>16GB</td>\n",
       "      <td>512GB SSD</td>\n",
       "      <td>AMD Radeon Pro 455</td>\n",
       "      <td>macOS</td>\n",
       "      <td>1.83kg</td>\n",
       "      <td>2537.45</td>\n",
       "    </tr>\n",
       "    <tr>\n",
       "      <th>4</th>\n",
       "      <td>Apple</td>\n",
       "      <td>MacBook Pro</td>\n",
       "      <td>Ultrabook</td>\n",
       "      <td>13.3</td>\n",
       "      <td>IPS Panel Retina Display 2560x1600</td>\n",
       "      <td>Intel Core i5 3.1GHz</td>\n",
       "      <td>8GB</td>\n",
       "      <td>256GB SSD</td>\n",
       "      <td>Intel Iris Plus Graphics 650</td>\n",
       "      <td>macOS</td>\n",
       "      <td>1.37kg</td>\n",
       "      <td>1803.60</td>\n",
       "    </tr>\n",
       "  </tbody>\n",
       "</table>\n",
       "</div>"
      ],
      "text/plain": [
       "  company      product   typename  inches                    screenresolution  \\\n",
       "0   Apple  MacBook Pro  Ultrabook    13.3  IPS Panel Retina Display 2560x1600   \n",
       "1   Apple  Macbook Air  Ultrabook    13.3                            1440x900   \n",
       "2      HP       250 G6   Notebook    15.6                   Full HD 1920x1080   \n",
       "3   Apple  MacBook Pro  Ultrabook    15.4  IPS Panel Retina Display 2880x1800   \n",
       "4   Apple  MacBook Pro  Ultrabook    13.3  IPS Panel Retina Display 2560x1600   \n",
       "\n",
       "                          cpu   ram               memory  \\\n",
       "0        Intel Core i5 2.3GHz   8GB            128GB SSD   \n",
       "1        Intel Core i5 1.8GHz   8GB  128GB Flash Storage   \n",
       "2  Intel Core i5 7200U 2.5GHz   8GB            256GB SSD   \n",
       "3        Intel Core i7 2.7GHz  16GB            512GB SSD   \n",
       "4        Intel Core i5 3.1GHz   8GB            256GB SSD   \n",
       "\n",
       "                            gpu  opsys  weight    price  \n",
       "0  Intel Iris Plus Graphics 640  macOS  1.37kg  1339.69  \n",
       "1        Intel HD Graphics 6000  macOS  1.34kg   898.94  \n",
       "2         Intel HD Graphics 620  No OS  1.86kg   575.00  \n",
       "3            AMD Radeon Pro 455  macOS  1.83kg  2537.45  \n",
       "4  Intel Iris Plus Graphics 650  macOS  1.37kg  1803.60  "
      ]
     },
     "execution_count": 47,
     "metadata": {},
     "output_type": "execute_result"
    }
   ],
   "source": [
    "df.head()"
   ]
  },
  {
   "cell_type": "code",
   "execution_count": 55,
   "id": "fc2dcfb9",
   "metadata": {},
   "outputs": [],
   "source": [
    "def convert_column(column, value, converted_type):\n",
    "    \"\"\"\n",
    "    \n",
    "    Replaces the given column values with empty string\n",
    "    \n",
    "    Example:\n",
    "    convert_column(\"ram\",\"GB\",int)\n",
    "    > 4GB converted to 4\n",
    "    \n",
    "    \"\"\"\n",
    "    df[column] = df[column].str.replace(value,\"\")\n",
    "    df[column] = df[column].astype(converted_type)\n",
    "    return df"
   ]
  },
  {
   "cell_type": "code",
   "execution_count": null,
   "id": "d12b7826",
   "metadata": {},
   "outputs": [],
   "source": [
    "convert_column(\"ram\", \"GB\", int)\n",
    "convert_column(\"weight\", \"kg\", float)"
   ]
  },
  {
   "cell_type": "code",
   "execution_count": 59,
   "id": "f97ed35b",
   "metadata": {},
   "outputs": [
    {
     "data": {
      "text/html": [
       "<div>\n",
       "<style scoped>\n",
       "    .dataframe tbody tr th:only-of-type {\n",
       "        vertical-align: middle;\n",
       "    }\n",
       "\n",
       "    .dataframe tbody tr th {\n",
       "        vertical-align: top;\n",
       "    }\n",
       "\n",
       "    .dataframe thead th {\n",
       "        text-align: right;\n",
       "    }\n",
       "</style>\n",
       "<table border=\"1\" class=\"dataframe\">\n",
       "  <thead>\n",
       "    <tr style=\"text-align: right;\">\n",
       "      <th></th>\n",
       "      <th>company</th>\n",
       "      <th>product</th>\n",
       "      <th>typename</th>\n",
       "      <th>inches</th>\n",
       "      <th>screenresolution</th>\n",
       "      <th>cpu</th>\n",
       "      <th>ram</th>\n",
       "      <th>memory</th>\n",
       "      <th>gpu</th>\n",
       "      <th>opsys</th>\n",
       "      <th>weight</th>\n",
       "      <th>price</th>\n",
       "    </tr>\n",
       "  </thead>\n",
       "  <tbody>\n",
       "    <tr>\n",
       "      <th>0</th>\n",
       "      <td>Apple</td>\n",
       "      <td>MacBook Pro</td>\n",
       "      <td>Ultrabook</td>\n",
       "      <td>13.3</td>\n",
       "      <td>IPS Panel Retina Display 2560x1600</td>\n",
       "      <td>Intel Core i5 2.3GHz</td>\n",
       "      <td>8</td>\n",
       "      <td>128GB SSD</td>\n",
       "      <td>Intel Iris Plus Graphics 640</td>\n",
       "      <td>macOS</td>\n",
       "      <td>1.37</td>\n",
       "      <td>1339.69</td>\n",
       "    </tr>\n",
       "    <tr>\n",
       "      <th>1</th>\n",
       "      <td>Apple</td>\n",
       "      <td>Macbook Air</td>\n",
       "      <td>Ultrabook</td>\n",
       "      <td>13.3</td>\n",
       "      <td>1440x900</td>\n",
       "      <td>Intel Core i5 1.8GHz</td>\n",
       "      <td>8</td>\n",
       "      <td>128GB Flash Storage</td>\n",
       "      <td>Intel HD Graphics 6000</td>\n",
       "      <td>macOS</td>\n",
       "      <td>1.34</td>\n",
       "      <td>898.94</td>\n",
       "    </tr>\n",
       "    <tr>\n",
       "      <th>2</th>\n",
       "      <td>HP</td>\n",
       "      <td>250 G6</td>\n",
       "      <td>Notebook</td>\n",
       "      <td>15.6</td>\n",
       "      <td>Full HD 1920x1080</td>\n",
       "      <td>Intel Core i5 7200U 2.5GHz</td>\n",
       "      <td>8</td>\n",
       "      <td>256GB SSD</td>\n",
       "      <td>Intel HD Graphics 620</td>\n",
       "      <td>No OS</td>\n",
       "      <td>1.86</td>\n",
       "      <td>575.00</td>\n",
       "    </tr>\n",
       "    <tr>\n",
       "      <th>3</th>\n",
       "      <td>Apple</td>\n",
       "      <td>MacBook Pro</td>\n",
       "      <td>Ultrabook</td>\n",
       "      <td>15.4</td>\n",
       "      <td>IPS Panel Retina Display 2880x1800</td>\n",
       "      <td>Intel Core i7 2.7GHz</td>\n",
       "      <td>16</td>\n",
       "      <td>512GB SSD</td>\n",
       "      <td>AMD Radeon Pro 455</td>\n",
       "      <td>macOS</td>\n",
       "      <td>1.83</td>\n",
       "      <td>2537.45</td>\n",
       "    </tr>\n",
       "    <tr>\n",
       "      <th>4</th>\n",
       "      <td>Apple</td>\n",
       "      <td>MacBook Pro</td>\n",
       "      <td>Ultrabook</td>\n",
       "      <td>13.3</td>\n",
       "      <td>IPS Panel Retina Display 2560x1600</td>\n",
       "      <td>Intel Core i5 3.1GHz</td>\n",
       "      <td>8</td>\n",
       "      <td>256GB SSD</td>\n",
       "      <td>Intel Iris Plus Graphics 650</td>\n",
       "      <td>macOS</td>\n",
       "      <td>1.37</td>\n",
       "      <td>1803.60</td>\n",
       "    </tr>\n",
       "  </tbody>\n",
       "</table>\n",
       "</div>"
      ],
      "text/plain": [
       "  company      product   typename  inches                    screenresolution  \\\n",
       "0   Apple  MacBook Pro  Ultrabook    13.3  IPS Panel Retina Display 2560x1600   \n",
       "1   Apple  Macbook Air  Ultrabook    13.3                            1440x900   \n",
       "2      HP       250 G6   Notebook    15.6                   Full HD 1920x1080   \n",
       "3   Apple  MacBook Pro  Ultrabook    15.4  IPS Panel Retina Display 2880x1800   \n",
       "4   Apple  MacBook Pro  Ultrabook    13.3  IPS Panel Retina Display 2560x1600   \n",
       "\n",
       "                          cpu  ram               memory  \\\n",
       "0        Intel Core i5 2.3GHz    8            128GB SSD   \n",
       "1        Intel Core i5 1.8GHz    8  128GB Flash Storage   \n",
       "2  Intel Core i5 7200U 2.5GHz    8            256GB SSD   \n",
       "3        Intel Core i7 2.7GHz   16            512GB SSD   \n",
       "4        Intel Core i5 3.1GHz    8            256GB SSD   \n",
       "\n",
       "                            gpu  opsys  weight    price  \n",
       "0  Intel Iris Plus Graphics 640  macOS    1.37  1339.69  \n",
       "1        Intel HD Graphics 6000  macOS    1.34   898.94  \n",
       "2         Intel HD Graphics 620  No OS    1.86   575.00  \n",
       "3            AMD Radeon Pro 455  macOS    1.83  2537.45  \n",
       "4  Intel Iris Plus Graphics 650  macOS    1.37  1803.60  "
      ]
     },
     "execution_count": 59,
     "metadata": {},
     "output_type": "execute_result"
    }
   ],
   "source": [
    "df.head()"
   ]
  },
  {
   "cell_type": "markdown",
   "id": "63e57660",
   "metadata": {},
   "source": [
    "From Screen Resolution we can get more information:\n",
    "- touchscreen? (Yes / No)\n",
    "- Resolution\n",
    "- Screen Type\n",
    "\n",
    "We can store these 3 informations into 3 different columns"
   ]
  },
  {
   "cell_type": "code",
   "execution_count": 62,
   "id": "5234badb",
   "metadata": {},
   "outputs": [],
   "source": [
    "df['resolution'] = df['screenresolution'].str.extract(r'(\\d+x\\d+)')"
   ]
  },
  {
   "cell_type": "code",
   "execution_count": 63,
   "id": "b59f9e9d",
   "metadata": {},
   "outputs": [],
   "source": [
    "df['screentype'] = df['screenresolution'].replace(r'(\\d+x\\d+)','',regex=True)"
   ]
  },
  {
   "cell_type": "code",
   "execution_count": 64,
   "id": "8cbb93b9",
   "metadata": {},
   "outputs": [
    {
     "data": {
      "text/plain": [
       "0    IPS Panel Retina Display \n",
       "1                             \n",
       "2                     Full HD \n",
       "3    IPS Panel Retina Display \n",
       "4    IPS Panel Retina Display \n",
       "Name: screentype, dtype: object"
      ]
     },
     "execution_count": 64,
     "metadata": {},
     "output_type": "execute_result"
    }
   ],
   "source": [
    "df[\"screentype\"].head()"
   ]
  },
  {
   "cell_type": "code",
   "execution_count": 65,
   "id": "ef7521f8",
   "metadata": {},
   "outputs": [],
   "source": [
    "df['touchscreen'] = df['screentype'].str.extract(r'(Touchscreen)')\n",
    "df['screentype'] = df['screentype'].replace(r'(Touchscreen)','',regex=True)"
   ]
  },
  {
   "cell_type": "code",
   "execution_count": 67,
   "id": "67c411c2",
   "metadata": {},
   "outputs": [
    {
     "data": {
      "text/plain": [
       "touchscreen\n",
       "Touchscreen    188\n",
       "Name: count, dtype: int64"
      ]
     },
     "execution_count": 67,
     "metadata": {},
     "output_type": "execute_result"
    }
   ],
   "source": [
    "df[\"touchscreen\"].value_counts()"
   ]
  },
  {
   "cell_type": "code",
   "execution_count": 70,
   "id": "006a89df",
   "metadata": {},
   "outputs": [],
   "source": [
    "df[\"touchscreen\"] = df[\"touchscreen\"].replace(\"Touchscreen\",1) \n",
    "df[\"touchscreen\"] = df[\"touchscreen\"].replace(np.nan,0)"
   ]
  },
  {
   "cell_type": "code",
   "execution_count": 72,
   "id": "b43b4a9e",
   "metadata": {},
   "outputs": [
    {
     "data": {
      "text/plain": [
       "touchscreen\n",
       "0.0    1087\n",
       "1.0     188\n",
       "Name: count, dtype: int64"
      ]
     },
     "execution_count": 72,
     "metadata": {},
     "output_type": "execute_result"
    }
   ],
   "source": [
    "df[\"touchscreen\"].value_counts()"
   ]
  },
  {
   "cell_type": "code",
   "execution_count": 75,
   "id": "f7f4bb40",
   "metadata": {},
   "outputs": [],
   "source": [
    "df['screentype'] = df['screentype'].replace(r'(Full HD|Quad HD|Quad HD|\\+|/|4K Ultra HD)','',regex=True)"
   ]
  },
  {
   "cell_type": "code",
   "execution_count": 76,
   "id": "0c04fc3f",
   "metadata": {},
   "outputs": [
    {
     "data": {
      "text/plain": [
       "screentype\n",
       "                             547\n",
       "                             296\n",
       "IPS Panel                    261\n",
       "                              75\n",
       "IPS Panel                     68\n",
       "IPS Panel Retina Display      17\n",
       "IPS Panel                     11\n",
       "Name: count, dtype: int64"
      ]
     },
     "execution_count": 76,
     "metadata": {},
     "output_type": "execute_result"
    }
   ],
   "source": [
    "df[\"screentype\"].value_counts()"
   ]
  },
  {
   "cell_type": "markdown",
   "id": "af7325a1",
   "metadata": {},
   "source": [
    "It seems there are extra trailing spaces after IPS Panel\n",
    "There are only 2 types of screentypes:\n",
    "- IPS Panel\n",
    "- IPS Panel Retins Display (Apple laptops)"
   ]
  },
  {
   "cell_type": "code",
   "execution_count": 77,
   "id": "1001e61b",
   "metadata": {},
   "outputs": [
    {
     "data": {
      "text/plain": [
       "screentype\n",
       "                         918\n",
       "IPSPanel                 340\n",
       "IPSPanelRetinaDisplay     17\n",
       "Name: count, dtype: int64"
      ]
     },
     "execution_count": 77,
     "metadata": {},
     "output_type": "execute_result"
    }
   ],
   "source": [
    "# Removes trailing white spaces \n",
    "df['screentype']=df['screentype'].replace(r' ','',regex=True)\n",
    "df['screentype'].value_counts()"
   ]
  },
  {
   "cell_type": "code",
   "execution_count": 78,
   "id": "ffe364cc",
   "metadata": {},
   "outputs": [
    {
     "data": {
      "text/plain": [
       "screentype\n",
       "IPSPanel                 340\n",
       "IPSPanelRetinaDisplay     17\n",
       "Name: count, dtype: int64"
      ]
     },
     "execution_count": 78,
     "metadata": {},
     "output_type": "execute_result"
    }
   ],
   "source": [
    "# Converts blank spaces into NaN\n",
    "df['screentype'] = df['screentype'].replace(r'^\\s*$', np.nan, regex=True)\n",
    "df['screentype'].value_counts()"
   ]
  },
  {
   "cell_type": "code",
   "execution_count": 79,
   "id": "39bc1128",
   "metadata": {},
   "outputs": [
    {
     "data": {
      "text/plain": [
       "screentype\n",
       "IPSPanel                 340\n",
       "IPSPanelRetinaDisplay     17\n",
       "Name: count, dtype: int64"
      ]
     },
     "execution_count": 79,
     "metadata": {},
     "output_type": "execute_result"
    }
   ],
   "source": [
    "df['screentype'].value_counts()"
   ]
  },
  {
   "cell_type": "code",
   "execution_count": 80,
   "id": "b9ae8fd5",
   "metadata": {},
   "outputs": [
    {
     "data": {
      "text/html": [
       "<div>\n",
       "<style scoped>\n",
       "    .dataframe tbody tr th:only-of-type {\n",
       "        vertical-align: middle;\n",
       "    }\n",
       "\n",
       "    .dataframe tbody tr th {\n",
       "        vertical-align: top;\n",
       "    }\n",
       "\n",
       "    .dataframe thead th {\n",
       "        text-align: right;\n",
       "    }\n",
       "</style>\n",
       "<table border=\"1\" class=\"dataframe\">\n",
       "  <thead>\n",
       "    <tr style=\"text-align: right;\">\n",
       "      <th></th>\n",
       "      <th>company</th>\n",
       "      <th>product</th>\n",
       "      <th>typename</th>\n",
       "      <th>inches</th>\n",
       "      <th>screenresolution</th>\n",
       "      <th>cpu</th>\n",
       "      <th>ram</th>\n",
       "      <th>memory</th>\n",
       "      <th>gpu</th>\n",
       "      <th>opsys</th>\n",
       "      <th>weight</th>\n",
       "      <th>price</th>\n",
       "      <th>resolution</th>\n",
       "      <th>screentype</th>\n",
       "      <th>touchscreen</th>\n",
       "    </tr>\n",
       "  </thead>\n",
       "  <tbody>\n",
       "    <tr>\n",
       "      <th>0</th>\n",
       "      <td>Apple</td>\n",
       "      <td>MacBook Pro</td>\n",
       "      <td>Ultrabook</td>\n",
       "      <td>13.3</td>\n",
       "      <td>IPS Panel Retina Display 2560x1600</td>\n",
       "      <td>Intel Core i5 2.3GHz</td>\n",
       "      <td>8</td>\n",
       "      <td>128GB SSD</td>\n",
       "      <td>Intel Iris Plus Graphics 640</td>\n",
       "      <td>macOS</td>\n",
       "      <td>1.37</td>\n",
       "      <td>1339.69</td>\n",
       "      <td>2560x1600</td>\n",
       "      <td>IPSPanelRetinaDisplay</td>\n",
       "      <td>0.0</td>\n",
       "    </tr>\n",
       "    <tr>\n",
       "      <th>1</th>\n",
       "      <td>Apple</td>\n",
       "      <td>Macbook Air</td>\n",
       "      <td>Ultrabook</td>\n",
       "      <td>13.3</td>\n",
       "      <td>1440x900</td>\n",
       "      <td>Intel Core i5 1.8GHz</td>\n",
       "      <td>8</td>\n",
       "      <td>128GB Flash Storage</td>\n",
       "      <td>Intel HD Graphics 6000</td>\n",
       "      <td>macOS</td>\n",
       "      <td>1.34</td>\n",
       "      <td>898.94</td>\n",
       "      <td>1440x900</td>\n",
       "      <td>NaN</td>\n",
       "      <td>0.0</td>\n",
       "    </tr>\n",
       "    <tr>\n",
       "      <th>2</th>\n",
       "      <td>HP</td>\n",
       "      <td>250 G6</td>\n",
       "      <td>Notebook</td>\n",
       "      <td>15.6</td>\n",
       "      <td>Full HD 1920x1080</td>\n",
       "      <td>Intel Core i5 7200U 2.5GHz</td>\n",
       "      <td>8</td>\n",
       "      <td>256GB SSD</td>\n",
       "      <td>Intel HD Graphics 620</td>\n",
       "      <td>No OS</td>\n",
       "      <td>1.86</td>\n",
       "      <td>575.00</td>\n",
       "      <td>1920x1080</td>\n",
       "      <td>NaN</td>\n",
       "      <td>0.0</td>\n",
       "    </tr>\n",
       "    <tr>\n",
       "      <th>3</th>\n",
       "      <td>Apple</td>\n",
       "      <td>MacBook Pro</td>\n",
       "      <td>Ultrabook</td>\n",
       "      <td>15.4</td>\n",
       "      <td>IPS Panel Retina Display 2880x1800</td>\n",
       "      <td>Intel Core i7 2.7GHz</td>\n",
       "      <td>16</td>\n",
       "      <td>512GB SSD</td>\n",
       "      <td>AMD Radeon Pro 455</td>\n",
       "      <td>macOS</td>\n",
       "      <td>1.83</td>\n",
       "      <td>2537.45</td>\n",
       "      <td>2880x1800</td>\n",
       "      <td>IPSPanelRetinaDisplay</td>\n",
       "      <td>0.0</td>\n",
       "    </tr>\n",
       "    <tr>\n",
       "      <th>4</th>\n",
       "      <td>Apple</td>\n",
       "      <td>MacBook Pro</td>\n",
       "      <td>Ultrabook</td>\n",
       "      <td>13.3</td>\n",
       "      <td>IPS Panel Retina Display 2560x1600</td>\n",
       "      <td>Intel Core i5 3.1GHz</td>\n",
       "      <td>8</td>\n",
       "      <td>256GB SSD</td>\n",
       "      <td>Intel Iris Plus Graphics 650</td>\n",
       "      <td>macOS</td>\n",
       "      <td>1.37</td>\n",
       "      <td>1803.60</td>\n",
       "      <td>2560x1600</td>\n",
       "      <td>IPSPanelRetinaDisplay</td>\n",
       "      <td>0.0</td>\n",
       "    </tr>\n",
       "  </tbody>\n",
       "</table>\n",
       "</div>"
      ],
      "text/plain": [
       "  company      product   typename  inches                    screenresolution  \\\n",
       "0   Apple  MacBook Pro  Ultrabook    13.3  IPS Panel Retina Display 2560x1600   \n",
       "1   Apple  Macbook Air  Ultrabook    13.3                            1440x900   \n",
       "2      HP       250 G6   Notebook    15.6                   Full HD 1920x1080   \n",
       "3   Apple  MacBook Pro  Ultrabook    15.4  IPS Panel Retina Display 2880x1800   \n",
       "4   Apple  MacBook Pro  Ultrabook    13.3  IPS Panel Retina Display 2560x1600   \n",
       "\n",
       "                          cpu  ram               memory  \\\n",
       "0        Intel Core i5 2.3GHz    8            128GB SSD   \n",
       "1        Intel Core i5 1.8GHz    8  128GB Flash Storage   \n",
       "2  Intel Core i5 7200U 2.5GHz    8            256GB SSD   \n",
       "3        Intel Core i7 2.7GHz   16            512GB SSD   \n",
       "4        Intel Core i5 3.1GHz    8            256GB SSD   \n",
       "\n",
       "                            gpu  opsys  weight    price resolution  \\\n",
       "0  Intel Iris Plus Graphics 640  macOS    1.37  1339.69  2560x1600   \n",
       "1        Intel HD Graphics 6000  macOS    1.34   898.94   1440x900   \n",
       "2         Intel HD Graphics 620  No OS    1.86   575.00  1920x1080   \n",
       "3            AMD Radeon Pro 455  macOS    1.83  2537.45  2880x1800   \n",
       "4  Intel Iris Plus Graphics 650  macOS    1.37  1803.60  2560x1600   \n",
       "\n",
       "              screentype  touchscreen  \n",
       "0  IPSPanelRetinaDisplay          0.0  \n",
       "1                    NaN          0.0  \n",
       "2                    NaN          0.0  \n",
       "3  IPSPanelRetinaDisplay          0.0  \n",
       "4  IPSPanelRetinaDisplay          0.0  "
      ]
     },
     "execution_count": 80,
     "metadata": {},
     "output_type": "execute_result"
    }
   ],
   "source": [
    "df.head()"
   ]
  },
  {
   "cell_type": "code",
   "execution_count": 81,
   "id": "3f14ed75",
   "metadata": {},
   "outputs": [],
   "source": [
    "# Now, we don't need screenresolution\n",
    "df = df.drop('screenresolution', axis=1)"
   ]
  },
  {
   "cell_type": "code",
   "execution_count": 82,
   "id": "3905db2f",
   "metadata": {},
   "outputs": [
    {
     "data": {
      "text/html": [
       "<div>\n",
       "<style scoped>\n",
       "    .dataframe tbody tr th:only-of-type {\n",
       "        vertical-align: middle;\n",
       "    }\n",
       "\n",
       "    .dataframe tbody tr th {\n",
       "        vertical-align: top;\n",
       "    }\n",
       "\n",
       "    .dataframe thead th {\n",
       "        text-align: right;\n",
       "    }\n",
       "</style>\n",
       "<table border=\"1\" class=\"dataframe\">\n",
       "  <thead>\n",
       "    <tr style=\"text-align: right;\">\n",
       "      <th></th>\n",
       "      <th>company</th>\n",
       "      <th>product</th>\n",
       "      <th>typename</th>\n",
       "      <th>inches</th>\n",
       "      <th>cpu</th>\n",
       "      <th>ram</th>\n",
       "      <th>memory</th>\n",
       "      <th>gpu</th>\n",
       "      <th>opsys</th>\n",
       "      <th>weight</th>\n",
       "      <th>price</th>\n",
       "      <th>resolution</th>\n",
       "      <th>screentype</th>\n",
       "      <th>touchscreen</th>\n",
       "    </tr>\n",
       "  </thead>\n",
       "  <tbody>\n",
       "    <tr>\n",
       "      <th>0</th>\n",
       "      <td>Apple</td>\n",
       "      <td>MacBook Pro</td>\n",
       "      <td>Ultrabook</td>\n",
       "      <td>13.3</td>\n",
       "      <td>Intel Core i5 2.3GHz</td>\n",
       "      <td>8</td>\n",
       "      <td>128GB SSD</td>\n",
       "      <td>Intel Iris Plus Graphics 640</td>\n",
       "      <td>macOS</td>\n",
       "      <td>1.37</td>\n",
       "      <td>1339.69</td>\n",
       "      <td>2560x1600</td>\n",
       "      <td>IPSPanelRetinaDisplay</td>\n",
       "      <td>0.0</td>\n",
       "    </tr>\n",
       "    <tr>\n",
       "      <th>1</th>\n",
       "      <td>Apple</td>\n",
       "      <td>Macbook Air</td>\n",
       "      <td>Ultrabook</td>\n",
       "      <td>13.3</td>\n",
       "      <td>Intel Core i5 1.8GHz</td>\n",
       "      <td>8</td>\n",
       "      <td>128GB Flash Storage</td>\n",
       "      <td>Intel HD Graphics 6000</td>\n",
       "      <td>macOS</td>\n",
       "      <td>1.34</td>\n",
       "      <td>898.94</td>\n",
       "      <td>1440x900</td>\n",
       "      <td>NaN</td>\n",
       "      <td>0.0</td>\n",
       "    </tr>\n",
       "    <tr>\n",
       "      <th>2</th>\n",
       "      <td>HP</td>\n",
       "      <td>250 G6</td>\n",
       "      <td>Notebook</td>\n",
       "      <td>15.6</td>\n",
       "      <td>Intel Core i5 7200U 2.5GHz</td>\n",
       "      <td>8</td>\n",
       "      <td>256GB SSD</td>\n",
       "      <td>Intel HD Graphics 620</td>\n",
       "      <td>No OS</td>\n",
       "      <td>1.86</td>\n",
       "      <td>575.00</td>\n",
       "      <td>1920x1080</td>\n",
       "      <td>NaN</td>\n",
       "      <td>0.0</td>\n",
       "    </tr>\n",
       "    <tr>\n",
       "      <th>3</th>\n",
       "      <td>Apple</td>\n",
       "      <td>MacBook Pro</td>\n",
       "      <td>Ultrabook</td>\n",
       "      <td>15.4</td>\n",
       "      <td>Intel Core i7 2.7GHz</td>\n",
       "      <td>16</td>\n",
       "      <td>512GB SSD</td>\n",
       "      <td>AMD Radeon Pro 455</td>\n",
       "      <td>macOS</td>\n",
       "      <td>1.83</td>\n",
       "      <td>2537.45</td>\n",
       "      <td>2880x1800</td>\n",
       "      <td>IPSPanelRetinaDisplay</td>\n",
       "      <td>0.0</td>\n",
       "    </tr>\n",
       "    <tr>\n",
       "      <th>4</th>\n",
       "      <td>Apple</td>\n",
       "      <td>MacBook Pro</td>\n",
       "      <td>Ultrabook</td>\n",
       "      <td>13.3</td>\n",
       "      <td>Intel Core i5 3.1GHz</td>\n",
       "      <td>8</td>\n",
       "      <td>256GB SSD</td>\n",
       "      <td>Intel Iris Plus Graphics 650</td>\n",
       "      <td>macOS</td>\n",
       "      <td>1.37</td>\n",
       "      <td>1803.60</td>\n",
       "      <td>2560x1600</td>\n",
       "      <td>IPSPanelRetinaDisplay</td>\n",
       "      <td>0.0</td>\n",
       "    </tr>\n",
       "  </tbody>\n",
       "</table>\n",
       "</div>"
      ],
      "text/plain": [
       "  company      product   typename  inches                         cpu  ram  \\\n",
       "0   Apple  MacBook Pro  Ultrabook    13.3        Intel Core i5 2.3GHz    8   \n",
       "1   Apple  Macbook Air  Ultrabook    13.3        Intel Core i5 1.8GHz    8   \n",
       "2      HP       250 G6   Notebook    15.6  Intel Core i5 7200U 2.5GHz    8   \n",
       "3   Apple  MacBook Pro  Ultrabook    15.4        Intel Core i7 2.7GHz   16   \n",
       "4   Apple  MacBook Pro  Ultrabook    13.3        Intel Core i5 3.1GHz    8   \n",
       "\n",
       "                memory                           gpu  opsys  weight    price  \\\n",
       "0            128GB SSD  Intel Iris Plus Graphics 640  macOS    1.37  1339.69   \n",
       "1  128GB Flash Storage        Intel HD Graphics 6000  macOS    1.34   898.94   \n",
       "2            256GB SSD         Intel HD Graphics 620  No OS    1.86   575.00   \n",
       "3            512GB SSD            AMD Radeon Pro 455  macOS    1.83  2537.45   \n",
       "4            256GB SSD  Intel Iris Plus Graphics 650  macOS    1.37  1803.60   \n",
       "\n",
       "  resolution             screentype  touchscreen  \n",
       "0  2560x1600  IPSPanelRetinaDisplay          0.0  \n",
       "1   1440x900                    NaN          0.0  \n",
       "2  1920x1080                    NaN          0.0  \n",
       "3  2880x1800  IPSPanelRetinaDisplay          0.0  \n",
       "4  2560x1600  IPSPanelRetinaDisplay          0.0  "
      ]
     },
     "execution_count": 82,
     "metadata": {},
     "output_type": "execute_result"
    }
   ],
   "source": [
    "df.head()"
   ]
  },
  {
   "cell_type": "code",
   "execution_count": 83,
   "id": "7261a75f",
   "metadata": {},
   "outputs": [
    {
     "data": {
      "text/plain": [
       "resolution\n",
       "1920x1080    833\n",
       "1366x768     290\n",
       "3840x2160     43\n",
       "3200x1800     25\n",
       "2560x1440     23\n",
       "1600x900      23\n",
       "2560x1600      6\n",
       "2304x1440      6\n",
       "2256x1504      6\n",
       "1920x1200      5\n",
       "1440x900       4\n",
       "2880x1800      4\n",
       "2400x1600      4\n",
       "2160x1440      2\n",
       "2736x1824      1\n",
       "Name: count, dtype: int64"
      ]
     },
     "execution_count": 83,
     "metadata": {},
     "output_type": "execute_result"
    }
   ],
   "source": [
    "df['resolution'].value_counts()"
   ]
  },
  {
   "cell_type": "code",
   "execution_count": 85,
   "id": "f11fdb8a",
   "metadata": {},
   "outputs": [
    {
     "data": {
      "text/plain": [
       "screentype\n",
       "IPSPanel                 340\n",
       "IPSPanelRetinaDisplay     17\n",
       "Name: count, dtype: int64"
      ]
     },
     "execution_count": 85,
     "metadata": {},
     "output_type": "execute_result"
    }
   ],
   "source": [
    "df['screentype'].value_counts()"
   ]
  },
  {
   "cell_type": "code",
   "execution_count": 86,
   "id": "2a5589d2",
   "metadata": {},
   "outputs": [
    {
     "data": {
      "text/plain": [
       "touchscreen\n",
       "0.0    1087\n",
       "1.0     188\n",
       "Name: count, dtype: int64"
      ]
     },
     "execution_count": 86,
     "metadata": {},
     "output_type": "execute_result"
    }
   ],
   "source": [
    "df[\"touchscreen\"].value_counts()"
   ]
  },
  {
   "cell_type": "code",
   "execution_count": 87,
   "id": "32b1e0d8",
   "metadata": {},
   "outputs": [],
   "source": [
    "# extracts frequencies from CPU column\n",
    "df['cpu_freq'] = df['cpu'].str.extract(r'(\\d+(?:\\.\\d+)?GHz)')"
   ]
  },
  {
   "cell_type": "code",
   "execution_count": 88,
   "id": "488fa95f",
   "metadata": {},
   "outputs": [
    {
     "data": {
      "text/plain": [
       "cpu_freq\n",
       "2.5GHz     282\n",
       "2.8GHz     165\n",
       "2.7GHz     163\n",
       "1.6GHz     123\n",
       "2.3GHz      86\n",
       "1.8GHz      78\n",
       "2.6GHz      74\n",
       "2GHz        67\n",
       "1.1GHz      53\n",
       "2.4GHz      50\n",
       "3GHz        19\n",
       "2.9GHz      19\n",
       "2.0GHz      19\n",
       "1.2GHz      15\n",
       "1.44GHz     12\n",
       "2.2GHz      11\n",
       "1.5GHz      10\n",
       "1.3GHz       6\n",
       "3.6GHz       5\n",
       "3.1GHz       3\n",
       "2.1GHz       3\n",
       "2.50GHz      3\n",
       "1.9GHz       2\n",
       "0.9GHz       2\n",
       "1.60GHz      1\n",
       "3.2GHz       1\n",
       "1.0GHz       1\n",
       "1.92GHz      1\n",
       "2.70GHz      1\n",
       "Name: count, dtype: int64"
      ]
     },
     "execution_count": 88,
     "metadata": {},
     "output_type": "execute_result"
    }
   ],
   "source": [
    "df[\"cpu_freq\"].value_counts()"
   ]
  },
  {
   "cell_type": "code",
   "execution_count": 89,
   "id": "22390937",
   "metadata": {},
   "outputs": [
    {
     "data": {
      "text/html": [
       "<div>\n",
       "<style scoped>\n",
       "    .dataframe tbody tr th:only-of-type {\n",
       "        vertical-align: middle;\n",
       "    }\n",
       "\n",
       "    .dataframe tbody tr th {\n",
       "        vertical-align: top;\n",
       "    }\n",
       "\n",
       "    .dataframe thead th {\n",
       "        text-align: right;\n",
       "    }\n",
       "</style>\n",
       "<table border=\"1\" class=\"dataframe\">\n",
       "  <thead>\n",
       "    <tr style=\"text-align: right;\">\n",
       "      <th></th>\n",
       "      <th>company</th>\n",
       "      <th>product</th>\n",
       "      <th>typename</th>\n",
       "      <th>inches</th>\n",
       "      <th>cpu</th>\n",
       "      <th>ram</th>\n",
       "      <th>memory</th>\n",
       "      <th>gpu</th>\n",
       "      <th>opsys</th>\n",
       "      <th>weight</th>\n",
       "      <th>price</th>\n",
       "      <th>resolution</th>\n",
       "      <th>screentype</th>\n",
       "      <th>touchscreen</th>\n",
       "      <th>cpu_freq</th>\n",
       "    </tr>\n",
       "  </thead>\n",
       "  <tbody>\n",
       "    <tr>\n",
       "      <th>0</th>\n",
       "      <td>Apple</td>\n",
       "      <td>MacBook Pro</td>\n",
       "      <td>Ultrabook</td>\n",
       "      <td>13.3</td>\n",
       "      <td>Intel Core i5 2.3GHz</td>\n",
       "      <td>8</td>\n",
       "      <td>128GB SSD</td>\n",
       "      <td>Intel Iris Plus Graphics 640</td>\n",
       "      <td>macOS</td>\n",
       "      <td>1.37</td>\n",
       "      <td>1339.69</td>\n",
       "      <td>2560x1600</td>\n",
       "      <td>IPSPanelRetinaDisplay</td>\n",
       "      <td>0.0</td>\n",
       "      <td>2.3</td>\n",
       "    </tr>\n",
       "    <tr>\n",
       "      <th>1</th>\n",
       "      <td>Apple</td>\n",
       "      <td>Macbook Air</td>\n",
       "      <td>Ultrabook</td>\n",
       "      <td>13.3</td>\n",
       "      <td>Intel Core i5 1.8GHz</td>\n",
       "      <td>8</td>\n",
       "      <td>128GB Flash Storage</td>\n",
       "      <td>Intel HD Graphics 6000</td>\n",
       "      <td>macOS</td>\n",
       "      <td>1.34</td>\n",
       "      <td>898.94</td>\n",
       "      <td>1440x900</td>\n",
       "      <td>NaN</td>\n",
       "      <td>0.0</td>\n",
       "      <td>1.8</td>\n",
       "    </tr>\n",
       "    <tr>\n",
       "      <th>2</th>\n",
       "      <td>HP</td>\n",
       "      <td>250 G6</td>\n",
       "      <td>Notebook</td>\n",
       "      <td>15.6</td>\n",
       "      <td>Intel Core i5 7200U 2.5GHz</td>\n",
       "      <td>8</td>\n",
       "      <td>256GB SSD</td>\n",
       "      <td>Intel HD Graphics 620</td>\n",
       "      <td>No OS</td>\n",
       "      <td>1.86</td>\n",
       "      <td>575.00</td>\n",
       "      <td>1920x1080</td>\n",
       "      <td>NaN</td>\n",
       "      <td>0.0</td>\n",
       "      <td>2.5</td>\n",
       "    </tr>\n",
       "    <tr>\n",
       "      <th>3</th>\n",
       "      <td>Apple</td>\n",
       "      <td>MacBook Pro</td>\n",
       "      <td>Ultrabook</td>\n",
       "      <td>15.4</td>\n",
       "      <td>Intel Core i7 2.7GHz</td>\n",
       "      <td>16</td>\n",
       "      <td>512GB SSD</td>\n",
       "      <td>AMD Radeon Pro 455</td>\n",
       "      <td>macOS</td>\n",
       "      <td>1.83</td>\n",
       "      <td>2537.45</td>\n",
       "      <td>2880x1800</td>\n",
       "      <td>IPSPanelRetinaDisplay</td>\n",
       "      <td>0.0</td>\n",
       "      <td>2.7</td>\n",
       "    </tr>\n",
       "    <tr>\n",
       "      <th>4</th>\n",
       "      <td>Apple</td>\n",
       "      <td>MacBook Pro</td>\n",
       "      <td>Ultrabook</td>\n",
       "      <td>13.3</td>\n",
       "      <td>Intel Core i5 3.1GHz</td>\n",
       "      <td>8</td>\n",
       "      <td>256GB SSD</td>\n",
       "      <td>Intel Iris Plus Graphics 650</td>\n",
       "      <td>macOS</td>\n",
       "      <td>1.37</td>\n",
       "      <td>1803.60</td>\n",
       "      <td>2560x1600</td>\n",
       "      <td>IPSPanelRetinaDisplay</td>\n",
       "      <td>0.0</td>\n",
       "      <td>3.1</td>\n",
       "    </tr>\n",
       "    <tr>\n",
       "      <th>...</th>\n",
       "      <td>...</td>\n",
       "      <td>...</td>\n",
       "      <td>...</td>\n",
       "      <td>...</td>\n",
       "      <td>...</td>\n",
       "      <td>...</td>\n",
       "      <td>...</td>\n",
       "      <td>...</td>\n",
       "      <td>...</td>\n",
       "      <td>...</td>\n",
       "      <td>...</td>\n",
       "      <td>...</td>\n",
       "      <td>...</td>\n",
       "      <td>...</td>\n",
       "      <td>...</td>\n",
       "    </tr>\n",
       "    <tr>\n",
       "      <th>1270</th>\n",
       "      <td>Lenovo</td>\n",
       "      <td>Yoga 500-14ISK</td>\n",
       "      <td>2 in 1 Convertible</td>\n",
       "      <td>14.0</td>\n",
       "      <td>Intel Core i7 6500U 2.5GHz</td>\n",
       "      <td>4</td>\n",
       "      <td>128GB SSD</td>\n",
       "      <td>Intel HD Graphics 520</td>\n",
       "      <td>Windows 10</td>\n",
       "      <td>1.80</td>\n",
       "      <td>638.00</td>\n",
       "      <td>1920x1080</td>\n",
       "      <td>IPSPanel</td>\n",
       "      <td>1.0</td>\n",
       "      <td>2.5</td>\n",
       "    </tr>\n",
       "    <tr>\n",
       "      <th>1271</th>\n",
       "      <td>Lenovo</td>\n",
       "      <td>Yoga 900-13ISK</td>\n",
       "      <td>2 in 1 Convertible</td>\n",
       "      <td>13.3</td>\n",
       "      <td>Intel Core i7 6500U 2.5GHz</td>\n",
       "      <td>16</td>\n",
       "      <td>512GB SSD</td>\n",
       "      <td>Intel HD Graphics 520</td>\n",
       "      <td>Windows 10</td>\n",
       "      <td>1.30</td>\n",
       "      <td>1499.00</td>\n",
       "      <td>3200x1800</td>\n",
       "      <td>IPSPanel</td>\n",
       "      <td>1.0</td>\n",
       "      <td>2.5</td>\n",
       "    </tr>\n",
       "    <tr>\n",
       "      <th>1272</th>\n",
       "      <td>Lenovo</td>\n",
       "      <td>IdeaPad 100S-14IBR</td>\n",
       "      <td>Notebook</td>\n",
       "      <td>14.0</td>\n",
       "      <td>Intel Celeron Dual Core N3050 1.6GHz</td>\n",
       "      <td>2</td>\n",
       "      <td>64GB Flash Storage</td>\n",
       "      <td>Intel HD Graphics</td>\n",
       "      <td>Windows 10</td>\n",
       "      <td>1.50</td>\n",
       "      <td>229.00</td>\n",
       "      <td>1366x768</td>\n",
       "      <td>NaN</td>\n",
       "      <td>0.0</td>\n",
       "      <td>1.6</td>\n",
       "    </tr>\n",
       "    <tr>\n",
       "      <th>1273</th>\n",
       "      <td>HP</td>\n",
       "      <td>15-AC110nv (i7-6500U/6GB/1TB/Radeon</td>\n",
       "      <td>Notebook</td>\n",
       "      <td>15.6</td>\n",
       "      <td>Intel Core i7 6500U 2.5GHz</td>\n",
       "      <td>6</td>\n",
       "      <td>1TB HDD</td>\n",
       "      <td>AMD Radeon R5 M330</td>\n",
       "      <td>Windows 10</td>\n",
       "      <td>2.19</td>\n",
       "      <td>764.00</td>\n",
       "      <td>1366x768</td>\n",
       "      <td>NaN</td>\n",
       "      <td>0.0</td>\n",
       "      <td>2.5</td>\n",
       "    </tr>\n",
       "    <tr>\n",
       "      <th>1274</th>\n",
       "      <td>Asus</td>\n",
       "      <td>X553SA-XX031T (N3050/4GB/500GB/W10)</td>\n",
       "      <td>Notebook</td>\n",
       "      <td>15.6</td>\n",
       "      <td>Intel Celeron Dual Core N3050 1.6GHz</td>\n",
       "      <td>4</td>\n",
       "      <td>500GB HDD</td>\n",
       "      <td>Intel HD Graphics</td>\n",
       "      <td>Windows 10</td>\n",
       "      <td>2.20</td>\n",
       "      <td>369.00</td>\n",
       "      <td>1366x768</td>\n",
       "      <td>NaN</td>\n",
       "      <td>0.0</td>\n",
       "      <td>1.6</td>\n",
       "    </tr>\n",
       "  </tbody>\n",
       "</table>\n",
       "<p>1275 rows × 15 columns</p>\n",
       "</div>"
      ],
      "text/plain": [
       "     company                              product            typename  inches  \\\n",
       "0      Apple                          MacBook Pro           Ultrabook    13.3   \n",
       "1      Apple                          Macbook Air           Ultrabook    13.3   \n",
       "2         HP                               250 G6            Notebook    15.6   \n",
       "3      Apple                          MacBook Pro           Ultrabook    15.4   \n",
       "4      Apple                          MacBook Pro           Ultrabook    13.3   \n",
       "...      ...                                  ...                 ...     ...   \n",
       "1270  Lenovo                       Yoga 500-14ISK  2 in 1 Convertible    14.0   \n",
       "1271  Lenovo                       Yoga 900-13ISK  2 in 1 Convertible    13.3   \n",
       "1272  Lenovo                   IdeaPad 100S-14IBR            Notebook    14.0   \n",
       "1273      HP  15-AC110nv (i7-6500U/6GB/1TB/Radeon            Notebook    15.6   \n",
       "1274    Asus  X553SA-XX031T (N3050/4GB/500GB/W10)            Notebook    15.6   \n",
       "\n",
       "                                       cpu  ram               memory  \\\n",
       "0                     Intel Core i5 2.3GHz    8            128GB SSD   \n",
       "1                     Intel Core i5 1.8GHz    8  128GB Flash Storage   \n",
       "2               Intel Core i5 7200U 2.5GHz    8            256GB SSD   \n",
       "3                     Intel Core i7 2.7GHz   16            512GB SSD   \n",
       "4                     Intel Core i5 3.1GHz    8            256GB SSD   \n",
       "...                                    ...  ...                  ...   \n",
       "1270            Intel Core i7 6500U 2.5GHz    4            128GB SSD   \n",
       "1271            Intel Core i7 6500U 2.5GHz   16            512GB SSD   \n",
       "1272  Intel Celeron Dual Core N3050 1.6GHz    2   64GB Flash Storage   \n",
       "1273            Intel Core i7 6500U 2.5GHz    6              1TB HDD   \n",
       "1274  Intel Celeron Dual Core N3050 1.6GHz    4            500GB HDD   \n",
       "\n",
       "                               gpu       opsys  weight    price resolution  \\\n",
       "0     Intel Iris Plus Graphics 640       macOS    1.37  1339.69  2560x1600   \n",
       "1           Intel HD Graphics 6000       macOS    1.34   898.94   1440x900   \n",
       "2            Intel HD Graphics 620       No OS    1.86   575.00  1920x1080   \n",
       "3               AMD Radeon Pro 455       macOS    1.83  2537.45  2880x1800   \n",
       "4     Intel Iris Plus Graphics 650       macOS    1.37  1803.60  2560x1600   \n",
       "...                            ...         ...     ...      ...        ...   \n",
       "1270         Intel HD Graphics 520  Windows 10    1.80   638.00  1920x1080   \n",
       "1271         Intel HD Graphics 520  Windows 10    1.30  1499.00  3200x1800   \n",
       "1272             Intel HD Graphics  Windows 10    1.50   229.00   1366x768   \n",
       "1273            AMD Radeon R5 M330  Windows 10    2.19   764.00   1366x768   \n",
       "1274             Intel HD Graphics  Windows 10    2.20   369.00   1366x768   \n",
       "\n",
       "                 screentype  touchscreen  cpu_freq  \n",
       "0     IPSPanelRetinaDisplay          0.0       2.3  \n",
       "1                       NaN          0.0       1.8  \n",
       "2                       NaN          0.0       2.5  \n",
       "3     IPSPanelRetinaDisplay          0.0       2.7  \n",
       "4     IPSPanelRetinaDisplay          0.0       3.1  \n",
       "...                     ...          ...       ...  \n",
       "1270               IPSPanel          1.0       2.5  \n",
       "1271               IPSPanel          1.0       2.5  \n",
       "1272                    NaN          0.0       1.6  \n",
       "1273                    NaN          0.0       2.5  \n",
       "1274                    NaN          0.0       1.6  \n",
       "\n",
       "[1275 rows x 15 columns]"
      ]
     },
     "execution_count": 89,
     "metadata": {},
     "output_type": "execute_result"
    }
   ],
   "source": [
    "convert_column(\"cpu_freq\", \"GHz\", float)"
   ]
  },
  {
   "cell_type": "code",
   "execution_count": 90,
   "id": "50265758",
   "metadata": {},
   "outputs": [],
   "source": [
    "# Remove freq from cpu column\n",
    "df['cpu']= df['cpu'].str.replace(r'(\\d+(?:\\.\\d+)?GHz)', '', regex=True)"
   ]
  },
  {
   "cell_type": "code",
   "execution_count": 91,
   "id": "66780067",
   "metadata": {},
   "outputs": [
    {
     "data": {
      "text/html": [
       "<div>\n",
       "<style scoped>\n",
       "    .dataframe tbody tr th:only-of-type {\n",
       "        vertical-align: middle;\n",
       "    }\n",
       "\n",
       "    .dataframe tbody tr th {\n",
       "        vertical-align: top;\n",
       "    }\n",
       "\n",
       "    .dataframe thead th {\n",
       "        text-align: right;\n",
       "    }\n",
       "</style>\n",
       "<table border=\"1\" class=\"dataframe\">\n",
       "  <thead>\n",
       "    <tr style=\"text-align: right;\">\n",
       "      <th></th>\n",
       "      <th>company</th>\n",
       "      <th>product</th>\n",
       "      <th>typename</th>\n",
       "      <th>inches</th>\n",
       "      <th>cpu</th>\n",
       "      <th>ram</th>\n",
       "      <th>memory</th>\n",
       "      <th>gpu</th>\n",
       "      <th>opsys</th>\n",
       "      <th>weight</th>\n",
       "      <th>price</th>\n",
       "      <th>resolution</th>\n",
       "      <th>screentype</th>\n",
       "      <th>touchscreen</th>\n",
       "      <th>cpu_freq</th>\n",
       "    </tr>\n",
       "  </thead>\n",
       "  <tbody>\n",
       "    <tr>\n",
       "      <th>0</th>\n",
       "      <td>Apple</td>\n",
       "      <td>MacBook Pro</td>\n",
       "      <td>Ultrabook</td>\n",
       "      <td>13.3</td>\n",
       "      <td>Intel Core i5</td>\n",
       "      <td>8</td>\n",
       "      <td>128GB SSD</td>\n",
       "      <td>Intel Iris Plus Graphics 640</td>\n",
       "      <td>macOS</td>\n",
       "      <td>1.37</td>\n",
       "      <td>1339.69</td>\n",
       "      <td>2560x1600</td>\n",
       "      <td>IPSPanelRetinaDisplay</td>\n",
       "      <td>0.0</td>\n",
       "      <td>2.3</td>\n",
       "    </tr>\n",
       "    <tr>\n",
       "      <th>1</th>\n",
       "      <td>Apple</td>\n",
       "      <td>Macbook Air</td>\n",
       "      <td>Ultrabook</td>\n",
       "      <td>13.3</td>\n",
       "      <td>Intel Core i5</td>\n",
       "      <td>8</td>\n",
       "      <td>128GB Flash Storage</td>\n",
       "      <td>Intel HD Graphics 6000</td>\n",
       "      <td>macOS</td>\n",
       "      <td>1.34</td>\n",
       "      <td>898.94</td>\n",
       "      <td>1440x900</td>\n",
       "      <td>NaN</td>\n",
       "      <td>0.0</td>\n",
       "      <td>1.8</td>\n",
       "    </tr>\n",
       "    <tr>\n",
       "      <th>2</th>\n",
       "      <td>HP</td>\n",
       "      <td>250 G6</td>\n",
       "      <td>Notebook</td>\n",
       "      <td>15.6</td>\n",
       "      <td>Intel Core i5 7200U</td>\n",
       "      <td>8</td>\n",
       "      <td>256GB SSD</td>\n",
       "      <td>Intel HD Graphics 620</td>\n",
       "      <td>No OS</td>\n",
       "      <td>1.86</td>\n",
       "      <td>575.00</td>\n",
       "      <td>1920x1080</td>\n",
       "      <td>NaN</td>\n",
       "      <td>0.0</td>\n",
       "      <td>2.5</td>\n",
       "    </tr>\n",
       "    <tr>\n",
       "      <th>3</th>\n",
       "      <td>Apple</td>\n",
       "      <td>MacBook Pro</td>\n",
       "      <td>Ultrabook</td>\n",
       "      <td>15.4</td>\n",
       "      <td>Intel Core i7</td>\n",
       "      <td>16</td>\n",
       "      <td>512GB SSD</td>\n",
       "      <td>AMD Radeon Pro 455</td>\n",
       "      <td>macOS</td>\n",
       "      <td>1.83</td>\n",
       "      <td>2537.45</td>\n",
       "      <td>2880x1800</td>\n",
       "      <td>IPSPanelRetinaDisplay</td>\n",
       "      <td>0.0</td>\n",
       "      <td>2.7</td>\n",
       "    </tr>\n",
       "    <tr>\n",
       "      <th>4</th>\n",
       "      <td>Apple</td>\n",
       "      <td>MacBook Pro</td>\n",
       "      <td>Ultrabook</td>\n",
       "      <td>13.3</td>\n",
       "      <td>Intel Core i5</td>\n",
       "      <td>8</td>\n",
       "      <td>256GB SSD</td>\n",
       "      <td>Intel Iris Plus Graphics 650</td>\n",
       "      <td>macOS</td>\n",
       "      <td>1.37</td>\n",
       "      <td>1803.60</td>\n",
       "      <td>2560x1600</td>\n",
       "      <td>IPSPanelRetinaDisplay</td>\n",
       "      <td>0.0</td>\n",
       "      <td>3.1</td>\n",
       "    </tr>\n",
       "  </tbody>\n",
       "</table>\n",
       "</div>"
      ],
      "text/plain": [
       "  company      product   typename  inches                   cpu  ram  \\\n",
       "0   Apple  MacBook Pro  Ultrabook    13.3        Intel Core i5     8   \n",
       "1   Apple  Macbook Air  Ultrabook    13.3        Intel Core i5     8   \n",
       "2      HP       250 G6   Notebook    15.6  Intel Core i5 7200U     8   \n",
       "3   Apple  MacBook Pro  Ultrabook    15.4        Intel Core i7    16   \n",
       "4   Apple  MacBook Pro  Ultrabook    13.3        Intel Core i5     8   \n",
       "\n",
       "                memory                           gpu  opsys  weight    price  \\\n",
       "0            128GB SSD  Intel Iris Plus Graphics 640  macOS    1.37  1339.69   \n",
       "1  128GB Flash Storage        Intel HD Graphics 6000  macOS    1.34   898.94   \n",
       "2            256GB SSD         Intel HD Graphics 620  No OS    1.86   575.00   \n",
       "3            512GB SSD            AMD Radeon Pro 455  macOS    1.83  2537.45   \n",
       "4            256GB SSD  Intel Iris Plus Graphics 650  macOS    1.37  1803.60   \n",
       "\n",
       "  resolution             screentype  touchscreen  cpu_freq  \n",
       "0  2560x1600  IPSPanelRetinaDisplay          0.0       2.3  \n",
       "1   1440x900                    NaN          0.0       1.8  \n",
       "2  1920x1080                    NaN          0.0       2.5  \n",
       "3  2880x1800  IPSPanelRetinaDisplay          0.0       2.7  \n",
       "4  2560x1600  IPSPanelRetinaDisplay          0.0       3.1  "
      ]
     },
     "execution_count": 91,
     "metadata": {},
     "output_type": "execute_result"
    }
   ],
   "source": [
    "df.head()"
   ]
  },
  {
   "cell_type": "code",
   "execution_count": 94,
   "id": "b73dbb21",
   "metadata": {},
   "outputs": [
    {
     "data": {
      "text/plain": [
       "0                 128GB SSD\n",
       "1       128GB Flash Storage\n",
       "2                 256GB SSD\n",
       "3                 512GB SSD\n",
       "4                 256GB SSD\n",
       "               ...         \n",
       "1270              128GB SSD\n",
       "1271              512GB SSD\n",
       "1272     64GB Flash Storage\n",
       "1273                1TB HDD\n",
       "1274              500GB HDD\n",
       "Name: memory, Length: 1275, dtype: object"
      ]
     },
     "execution_count": 94,
     "metadata": {},
     "output_type": "execute_result"
    }
   ],
   "source": [
    "df[\"memory\"]"
   ]
  },
  {
   "cell_type": "markdown",
   "id": "b224dbf8",
   "metadata": {},
   "source": [
    "We can get lots of information from this column, there are 2 hard drives, there are 4 different types of disks:\n",
    "- HDD\n",
    "- SSD\n",
    "- Flash Storage\n",
    "- Hybrid\n",
    "\n",
    "Let's create new columns to include all this information"
   ]
  },
  {
   "cell_type": "code",
   "execution_count": 95,
   "id": "f6f830fc",
   "metadata": {},
   "outputs": [
    {
     "data": {
      "text/plain": [
       "memory\n",
       "256GB SSD                        412\n",
       "1TB HDD                          215\n",
       "500GB HDD                        124\n",
       "512GB SSD                        114\n",
       "128GB SSD +  1TB HDD              94\n",
       "128GB SSD                         74\n",
       "256GB SSD +  1TB HDD              73\n",
       "32GB Flash Storage                36\n",
       "2TB HDD                           16\n",
       "512GB SSD +  1TB HDD              14\n",
       "1TB SSD                           14\n",
       "64GB Flash Storage                13\n",
       "256GB SSD +  2TB HDD              10\n",
       "256GB Flash Storage                8\n",
       "16GB Flash Storage                 7\n",
       "1.0TB Hybrid                       7\n",
       "32GB SSD                           6\n",
       "180GB SSD                          5\n",
       "128GB Flash Storage                4\n",
       "512GB SSD +  2TB HDD               3\n",
       "16GB SSD                           3\n",
       "512GB Flash Storage                2\n",
       "1TB SSD +  1TB HDD                 2\n",
       "256GB SSD +  500GB HDD             2\n",
       "128GB SSD +  2TB HDD               2\n",
       "256GB SSD +  256GB SSD             2\n",
       "512GB SSD +  256GB SSD             1\n",
       "512GB SSD +  512GB SSD             1\n",
       "64GB Flash Storage +  1TB HDD      1\n",
       "1TB HDD +  1TB HDD                 1\n",
       "32GB HDD                           1\n",
       "64GB SSD                           1\n",
       "128GB HDD                          1\n",
       "240GB SSD                          1\n",
       "8GB SSD                            1\n",
       "508GB Hybrid                       1\n",
       "1.0TB HDD                          1\n",
       "512GB SSD +  1.0TB Hybrid          1\n",
       "256GB SSD +  1.0TB Hybrid          1\n",
       "Name: count, dtype: int64"
      ]
     },
     "execution_count": 95,
     "metadata": {},
     "output_type": "execute_result"
    }
   ],
   "source": [
    "df['memory'].value_counts()"
   ]
  },
  {
   "cell_type": "code",
   "execution_count": 96,
   "id": "2e5c35ac",
   "metadata": {},
   "outputs": [],
   "source": [
    "df[\"memory_1\"] = df[\"memory\"]"
   ]
  },
  {
   "cell_type": "code",
   "execution_count": 97,
   "id": "747913df",
   "metadata": {},
   "outputs": [
    {
     "data": {
      "text/plain": [
       "memory_1\n",
       "256 SSD                         412\n",
       "1000 HDD                        216\n",
       "500 HDD                         124\n",
       "512 SSD                         114\n",
       "128 SSD +  1000 HDD              94\n",
       "128 SSD                          74\n",
       "256 SSD +  1000 HDD              73\n",
       "32 Flash Storage                 36\n",
       "2000 HDD                         16\n",
       "512 SSD +  1000 HDD              14\n",
       "1000 SSD                         14\n",
       "64 Flash Storage                 13\n",
       "256 SSD +  2000 HDD              10\n",
       "256 Flash Storage                 8\n",
       "16 Flash Storage                  7\n",
       "1000 Hybrid                       7\n",
       "32 SSD                            6\n",
       "180 SSD                           5\n",
       "128 Flash Storage                 4\n",
       "512 SSD +  2000 HDD               3\n",
       "16 SSD                            3\n",
       "512 Flash Storage                 2\n",
       "1000 SSD +  1000 HDD              2\n",
       "256 SSD +  500 HDD                2\n",
       "128 SSD +  2000 HDD               2\n",
       "256 SSD +  256 SSD                2\n",
       "512 SSD +  256 SSD                1\n",
       "512 SSD +  512 SSD                1\n",
       "64 Flash Storage +  1000 HDD      1\n",
       "1000 HDD +  1000 HDD              1\n",
       "32 HDD                            1\n",
       "64 SSD                            1\n",
       "128 HDD                           1\n",
       "240 SSD                           1\n",
       "8 SSD                             1\n",
       "508 Hybrid                        1\n",
       "512 SSD +  1000 Hybrid            1\n",
       "256 SSD +  1000 Hybrid            1\n",
       "Name: count, dtype: int64"
      ]
     },
     "execution_count": 97,
     "metadata": {},
     "output_type": "execute_result"
    }
   ],
   "source": [
    "# Convert everything into GB\n",
    "df['memory_1']=df['memory_1'].str.replace('1.0TB','1TB', regex=True)\n",
    "df['memory_1']=df['memory_1'].str.replace('1TB','1000GB')\n",
    "df['memory_1']=df['memory_1'].str.replace('2TB','2000GB')\n",
    "df['memory_1']=df['memory_1'].str.replace('GB','')\n",
    "df['memory_1'].value_counts()"
   ]
  },
  {
   "cell_type": "code",
   "execution_count": 98,
   "id": "0be84fcb",
   "metadata": {},
   "outputs": [
    {
     "data": {
      "text/plain": [
       "memory2\n",
       "256SSD                    412\n",
       "1000HDD                   216\n",
       "500HDD                    124\n",
       "512SSD                    114\n",
       "128SSD+1000HDD             94\n",
       "128SSD                     74\n",
       "256SSD+1000HDD             73\n",
       "32FlashStorage             36\n",
       "2000HDD                    16\n",
       "512SSD+1000HDD             14\n",
       "1000SSD                    14\n",
       "64FlashStorage             13\n",
       "256SSD+2000HDD             10\n",
       "256FlashStorage             8\n",
       "16FlashStorage              7\n",
       "1000Hybrid                  7\n",
       "32SSD                       6\n",
       "180SSD                      5\n",
       "128FlashStorage             4\n",
       "512SSD+2000HDD              3\n",
       "16SSD                       3\n",
       "512FlashStorage             2\n",
       "1000SSD+1000HDD             2\n",
       "256SSD+500HDD               2\n",
       "128SSD+2000HDD              2\n",
       "256SSD+256SSD               2\n",
       "512SSD+256SSD               1\n",
       "512SSD+512SSD               1\n",
       "64FlashStorage+1000HDD      1\n",
       "1000HDD+1000HDD             1\n",
       "32HDD                       1\n",
       "64SSD                       1\n",
       "128HDD                      1\n",
       "240SSD                      1\n",
       "8SSD                        1\n",
       "508Hybrid                   1\n",
       "512SSD+1000Hybrid           1\n",
       "256SSD+1000Hybrid           1\n",
       "Name: count, dtype: int64"
      ]
     },
     "execution_count": 98,
     "metadata": {},
     "output_type": "execute_result"
    }
   ],
   "source": [
    "# Remove white spaces\n",
    "df[\"memory2\"] = df[\"memory_1\"].str.replace(r\" \",\"\")\n",
    "df[\"memory2\"].value_counts()"
   ]
  },
  {
   "cell_type": "code",
   "execution_count": 102,
   "id": "190509f0",
   "metadata": {},
   "outputs": [],
   "source": [
    "# Seperate into Single Drive and Double Drive\n",
    "memory_1 = []\n",
    "memory_2 = []\n",
    "\n",
    "for i in df[\"memory2\"]:\n",
    "    if len(re.findall(r'\\+',i)) == 1: # Double Drive\n",
    "        one = re.findall(r'(\\w+)',i)\n",
    "        memory_1.append(one[0])\n",
    "        memory_2.append(one[1])\n",
    "    else: #Single Drive\n",
    "        one=re.findall(r'(\\w+)',i)\n",
    "        memory_1.append(one[0])\n",
    "        memory_2.append(\"NaN\")\n"
   ]
  },
  {
   "cell_type": "code",
   "execution_count": 103,
   "id": "5694140c",
   "metadata": {},
   "outputs": [],
   "source": [
    "# Seperate memory types\n",
    "memory_1_gb = []\n",
    "memory_1_type = []\n",
    "for i in memory_1:\n",
    "    memory_1_type.append(re.findall(r'(\\D\\w+)',i)[0])\n",
    "    memory_1_gb.append(re.findall(r'(\\d+)',i)[0])"
   ]
  },
  {
   "cell_type": "code",
   "execution_count": 107,
   "id": "dfa8a0e5",
   "metadata": {},
   "outputs": [
    {
     "data": {
      "text/plain": [
       "('128', 'SSD')"
      ]
     },
     "execution_count": 107,
     "metadata": {},
     "output_type": "execute_result"
    }
   ],
   "source": [
    "memory_1_gb[0], memory_1_type[0]"
   ]
  },
  {
   "cell_type": "code",
   "execution_count": 109,
   "id": "484d6e68",
   "metadata": {},
   "outputs": [],
   "source": [
    "memory_2_gb = []\n",
    "memory_2_type = []\n",
    "\n",
    "for i in memory_2:\n",
    "    if i != \"NaN\":\n",
    "        memory_2_type.append(re.findall(r'(\\D\\w+)',i)[0])\n",
    "        memory_2_gb.append(re.findall(r'(\\d+)',i)[0])\n",
    "    else:\n",
    "        memory_2_type.append(\"NaN\")\n",
    "        memory_2_gb.append(0)"
   ]
  },
  {
   "cell_type": "code",
   "execution_count": 115,
   "id": "651dd6a7",
   "metadata": {},
   "outputs": [],
   "source": [
    "# Add the above values to dataFrame\n",
    "df['memory_1(GB)'] = memory_1_gb\n",
    "df['memory_1_type'] = memory_1_type\n",
    "df['memory_2(GB)'] = memory_2_gb\n",
    "df['memory_2_type'] = memory_2_type"
   ]
  },
  {
   "cell_type": "code",
   "execution_count": 116,
   "id": "a40cc411",
   "metadata": {},
   "outputs": [],
   "source": [
    "df[\"memory_1(GB)\"] = df[\"memory_1(GB)\"].astype(float)\n",
    "df[\"memory_2(GB)\"] = df[\"memory_2(GB)\"].astype(float)"
   ]
  },
  {
   "cell_type": "code",
   "execution_count": 117,
   "id": "93275385",
   "metadata": {},
   "outputs": [
    {
     "data": {
      "text/html": [
       "<div>\n",
       "<style scoped>\n",
       "    .dataframe tbody tr th:only-of-type {\n",
       "        vertical-align: middle;\n",
       "    }\n",
       "\n",
       "    .dataframe tbody tr th {\n",
       "        vertical-align: top;\n",
       "    }\n",
       "\n",
       "    .dataframe thead th {\n",
       "        text-align: right;\n",
       "    }\n",
       "</style>\n",
       "<table border=\"1\" class=\"dataframe\">\n",
       "  <thead>\n",
       "    <tr style=\"text-align: right;\">\n",
       "      <th></th>\n",
       "      <th>company</th>\n",
       "      <th>product</th>\n",
       "      <th>typename</th>\n",
       "      <th>inches</th>\n",
       "      <th>cpu</th>\n",
       "      <th>ram</th>\n",
       "      <th>memory</th>\n",
       "      <th>gpu</th>\n",
       "      <th>opsys</th>\n",
       "      <th>weight</th>\n",
       "      <th>...</th>\n",
       "      <th>resolution</th>\n",
       "      <th>screentype</th>\n",
       "      <th>touchscreen</th>\n",
       "      <th>cpu_freq</th>\n",
       "      <th>memory_1</th>\n",
       "      <th>memory2</th>\n",
       "      <th>memory_1(GB)</th>\n",
       "      <th>memory_1_type</th>\n",
       "      <th>memory_2(GB)</th>\n",
       "      <th>memory_2_type</th>\n",
       "    </tr>\n",
       "  </thead>\n",
       "  <tbody>\n",
       "    <tr>\n",
       "      <th>0</th>\n",
       "      <td>Apple</td>\n",
       "      <td>MacBook Pro</td>\n",
       "      <td>Ultrabook</td>\n",
       "      <td>13.3</td>\n",
       "      <td>Intel Core i5</td>\n",
       "      <td>8</td>\n",
       "      <td>128GB SSD</td>\n",
       "      <td>Intel Iris Plus Graphics 640</td>\n",
       "      <td>macOS</td>\n",
       "      <td>1.37</td>\n",
       "      <td>...</td>\n",
       "      <td>2560x1600</td>\n",
       "      <td>IPSPanelRetinaDisplay</td>\n",
       "      <td>0.0</td>\n",
       "      <td>2.3</td>\n",
       "      <td>128 SSD</td>\n",
       "      <td>128SSD</td>\n",
       "      <td>128.0</td>\n",
       "      <td>SSD</td>\n",
       "      <td>0.0</td>\n",
       "      <td>NaN</td>\n",
       "    </tr>\n",
       "    <tr>\n",
       "      <th>1</th>\n",
       "      <td>Apple</td>\n",
       "      <td>Macbook Air</td>\n",
       "      <td>Ultrabook</td>\n",
       "      <td>13.3</td>\n",
       "      <td>Intel Core i5</td>\n",
       "      <td>8</td>\n",
       "      <td>128GB Flash Storage</td>\n",
       "      <td>Intel HD Graphics 6000</td>\n",
       "      <td>macOS</td>\n",
       "      <td>1.34</td>\n",
       "      <td>...</td>\n",
       "      <td>1440x900</td>\n",
       "      <td>NaN</td>\n",
       "      <td>0.0</td>\n",
       "      <td>1.8</td>\n",
       "      <td>128 Flash Storage</td>\n",
       "      <td>128FlashStorage</td>\n",
       "      <td>128.0</td>\n",
       "      <td>FlashStorage</td>\n",
       "      <td>0.0</td>\n",
       "      <td>NaN</td>\n",
       "    </tr>\n",
       "    <tr>\n",
       "      <th>2</th>\n",
       "      <td>HP</td>\n",
       "      <td>250 G6</td>\n",
       "      <td>Notebook</td>\n",
       "      <td>15.6</td>\n",
       "      <td>Intel Core i5 7200U</td>\n",
       "      <td>8</td>\n",
       "      <td>256GB SSD</td>\n",
       "      <td>Intel HD Graphics 620</td>\n",
       "      <td>No OS</td>\n",
       "      <td>1.86</td>\n",
       "      <td>...</td>\n",
       "      <td>1920x1080</td>\n",
       "      <td>NaN</td>\n",
       "      <td>0.0</td>\n",
       "      <td>2.5</td>\n",
       "      <td>256 SSD</td>\n",
       "      <td>256SSD</td>\n",
       "      <td>256.0</td>\n",
       "      <td>SSD</td>\n",
       "      <td>0.0</td>\n",
       "      <td>NaN</td>\n",
       "    </tr>\n",
       "    <tr>\n",
       "      <th>3</th>\n",
       "      <td>Apple</td>\n",
       "      <td>MacBook Pro</td>\n",
       "      <td>Ultrabook</td>\n",
       "      <td>15.4</td>\n",
       "      <td>Intel Core i7</td>\n",
       "      <td>16</td>\n",
       "      <td>512GB SSD</td>\n",
       "      <td>AMD Radeon Pro 455</td>\n",
       "      <td>macOS</td>\n",
       "      <td>1.83</td>\n",
       "      <td>...</td>\n",
       "      <td>2880x1800</td>\n",
       "      <td>IPSPanelRetinaDisplay</td>\n",
       "      <td>0.0</td>\n",
       "      <td>2.7</td>\n",
       "      <td>512 SSD</td>\n",
       "      <td>512SSD</td>\n",
       "      <td>512.0</td>\n",
       "      <td>SSD</td>\n",
       "      <td>0.0</td>\n",
       "      <td>NaN</td>\n",
       "    </tr>\n",
       "    <tr>\n",
       "      <th>4</th>\n",
       "      <td>Apple</td>\n",
       "      <td>MacBook Pro</td>\n",
       "      <td>Ultrabook</td>\n",
       "      <td>13.3</td>\n",
       "      <td>Intel Core i5</td>\n",
       "      <td>8</td>\n",
       "      <td>256GB SSD</td>\n",
       "      <td>Intel Iris Plus Graphics 650</td>\n",
       "      <td>macOS</td>\n",
       "      <td>1.37</td>\n",
       "      <td>...</td>\n",
       "      <td>2560x1600</td>\n",
       "      <td>IPSPanelRetinaDisplay</td>\n",
       "      <td>0.0</td>\n",
       "      <td>3.1</td>\n",
       "      <td>256 SSD</td>\n",
       "      <td>256SSD</td>\n",
       "      <td>256.0</td>\n",
       "      <td>SSD</td>\n",
       "      <td>0.0</td>\n",
       "      <td>NaN</td>\n",
       "    </tr>\n",
       "  </tbody>\n",
       "</table>\n",
       "<p>5 rows × 21 columns</p>\n",
       "</div>"
      ],
      "text/plain": [
       "  company      product   typename  inches                   cpu  ram  \\\n",
       "0   Apple  MacBook Pro  Ultrabook    13.3        Intel Core i5     8   \n",
       "1   Apple  Macbook Air  Ultrabook    13.3        Intel Core i5     8   \n",
       "2      HP       250 G6   Notebook    15.6  Intel Core i5 7200U     8   \n",
       "3   Apple  MacBook Pro  Ultrabook    15.4        Intel Core i7    16   \n",
       "4   Apple  MacBook Pro  Ultrabook    13.3        Intel Core i5     8   \n",
       "\n",
       "                memory                           gpu  opsys  weight  ...  \\\n",
       "0            128GB SSD  Intel Iris Plus Graphics 640  macOS    1.37  ...   \n",
       "1  128GB Flash Storage        Intel HD Graphics 6000  macOS    1.34  ...   \n",
       "2            256GB SSD         Intel HD Graphics 620  No OS    1.86  ...   \n",
       "3            512GB SSD            AMD Radeon Pro 455  macOS    1.83  ...   \n",
       "4            256GB SSD  Intel Iris Plus Graphics 650  macOS    1.37  ...   \n",
       "\n",
       "   resolution             screentype touchscreen  cpu_freq           memory_1  \\\n",
       "0   2560x1600  IPSPanelRetinaDisplay         0.0       2.3            128 SSD   \n",
       "1    1440x900                    NaN         0.0       1.8  128 Flash Storage   \n",
       "2   1920x1080                    NaN         0.0       2.5            256 SSD   \n",
       "3   2880x1800  IPSPanelRetinaDisplay         0.0       2.7            512 SSD   \n",
       "4   2560x1600  IPSPanelRetinaDisplay         0.0       3.1            256 SSD   \n",
       "\n",
       "           memory2 memory_1(GB)  memory_1_type memory_2(GB)  memory_2_type  \n",
       "0           128SSD        128.0            SSD          0.0            NaN  \n",
       "1  128FlashStorage        128.0   FlashStorage          0.0            NaN  \n",
       "2           256SSD        256.0            SSD          0.0            NaN  \n",
       "3           512SSD        512.0            SSD          0.0            NaN  \n",
       "4           256SSD        256.0            SSD          0.0            NaN  \n",
       "\n",
       "[5 rows x 21 columns]"
      ]
     },
     "execution_count": 117,
     "metadata": {},
     "output_type": "execute_result"
    }
   ],
   "source": [
    "df.head()"
   ]
  },
  {
   "cell_type": "code",
   "execution_count": 118,
   "id": "ebd2d95c",
   "metadata": {},
   "outputs": [],
   "source": [
    "# Drop the below columns after conversion\n",
    "df=df.drop(['memory_1','memory2','memory'], axis=1)"
   ]
  },
  {
   "cell_type": "code",
   "execution_count": 119,
   "id": "6f758ce6",
   "metadata": {},
   "outputs": [],
   "source": [
    "# Replace NaN with np.nan\n",
    "df = df.replace({\"NaN\":np.nan})"
   ]
  },
  {
   "cell_type": "code",
   "execution_count": 120,
   "id": "74d20232",
   "metadata": {},
   "outputs": [
    {
     "data": {
      "text/html": [
       "<div>\n",
       "<style scoped>\n",
       "    .dataframe tbody tr th:only-of-type {\n",
       "        vertical-align: middle;\n",
       "    }\n",
       "\n",
       "    .dataframe tbody tr th {\n",
       "        vertical-align: top;\n",
       "    }\n",
       "\n",
       "    .dataframe thead th {\n",
       "        text-align: right;\n",
       "    }\n",
       "</style>\n",
       "<table border=\"1\" class=\"dataframe\">\n",
       "  <thead>\n",
       "    <tr style=\"text-align: right;\">\n",
       "      <th></th>\n",
       "      <th>company</th>\n",
       "      <th>product</th>\n",
       "      <th>typename</th>\n",
       "      <th>inches</th>\n",
       "      <th>cpu</th>\n",
       "      <th>ram</th>\n",
       "      <th>gpu</th>\n",
       "      <th>opsys</th>\n",
       "      <th>weight</th>\n",
       "      <th>price</th>\n",
       "      <th>resolution</th>\n",
       "      <th>screentype</th>\n",
       "      <th>touchscreen</th>\n",
       "      <th>cpu_freq</th>\n",
       "      <th>memory_1(GB)</th>\n",
       "      <th>memory_1_type</th>\n",
       "      <th>memory_2(GB)</th>\n",
       "      <th>memory_2_type</th>\n",
       "    </tr>\n",
       "  </thead>\n",
       "  <tbody>\n",
       "    <tr>\n",
       "      <th>0</th>\n",
       "      <td>Apple</td>\n",
       "      <td>MacBook Pro</td>\n",
       "      <td>Ultrabook</td>\n",
       "      <td>13.3</td>\n",
       "      <td>Intel Core i5</td>\n",
       "      <td>8</td>\n",
       "      <td>Intel Iris Plus Graphics 640</td>\n",
       "      <td>macOS</td>\n",
       "      <td>1.37</td>\n",
       "      <td>1339.69</td>\n",
       "      <td>2560x1600</td>\n",
       "      <td>IPSPanelRetinaDisplay</td>\n",
       "      <td>0.0</td>\n",
       "      <td>2.3</td>\n",
       "      <td>128.0</td>\n",
       "      <td>SSD</td>\n",
       "      <td>0.0</td>\n",
       "      <td>NaN</td>\n",
       "    </tr>\n",
       "    <tr>\n",
       "      <th>1</th>\n",
       "      <td>Apple</td>\n",
       "      <td>Macbook Air</td>\n",
       "      <td>Ultrabook</td>\n",
       "      <td>13.3</td>\n",
       "      <td>Intel Core i5</td>\n",
       "      <td>8</td>\n",
       "      <td>Intel HD Graphics 6000</td>\n",
       "      <td>macOS</td>\n",
       "      <td>1.34</td>\n",
       "      <td>898.94</td>\n",
       "      <td>1440x900</td>\n",
       "      <td>NaN</td>\n",
       "      <td>0.0</td>\n",
       "      <td>1.8</td>\n",
       "      <td>128.0</td>\n",
       "      <td>FlashStorage</td>\n",
       "      <td>0.0</td>\n",
       "      <td>NaN</td>\n",
       "    </tr>\n",
       "    <tr>\n",
       "      <th>2</th>\n",
       "      <td>HP</td>\n",
       "      <td>250 G6</td>\n",
       "      <td>Notebook</td>\n",
       "      <td>15.6</td>\n",
       "      <td>Intel Core i5 7200U</td>\n",
       "      <td>8</td>\n",
       "      <td>Intel HD Graphics 620</td>\n",
       "      <td>No OS</td>\n",
       "      <td>1.86</td>\n",
       "      <td>575.00</td>\n",
       "      <td>1920x1080</td>\n",
       "      <td>NaN</td>\n",
       "      <td>0.0</td>\n",
       "      <td>2.5</td>\n",
       "      <td>256.0</td>\n",
       "      <td>SSD</td>\n",
       "      <td>0.0</td>\n",
       "      <td>NaN</td>\n",
       "    </tr>\n",
       "    <tr>\n",
       "      <th>3</th>\n",
       "      <td>Apple</td>\n",
       "      <td>MacBook Pro</td>\n",
       "      <td>Ultrabook</td>\n",
       "      <td>15.4</td>\n",
       "      <td>Intel Core i7</td>\n",
       "      <td>16</td>\n",
       "      <td>AMD Radeon Pro 455</td>\n",
       "      <td>macOS</td>\n",
       "      <td>1.83</td>\n",
       "      <td>2537.45</td>\n",
       "      <td>2880x1800</td>\n",
       "      <td>IPSPanelRetinaDisplay</td>\n",
       "      <td>0.0</td>\n",
       "      <td>2.7</td>\n",
       "      <td>512.0</td>\n",
       "      <td>SSD</td>\n",
       "      <td>0.0</td>\n",
       "      <td>NaN</td>\n",
       "    </tr>\n",
       "    <tr>\n",
       "      <th>4</th>\n",
       "      <td>Apple</td>\n",
       "      <td>MacBook Pro</td>\n",
       "      <td>Ultrabook</td>\n",
       "      <td>13.3</td>\n",
       "      <td>Intel Core i5</td>\n",
       "      <td>8</td>\n",
       "      <td>Intel Iris Plus Graphics 650</td>\n",
       "      <td>macOS</td>\n",
       "      <td>1.37</td>\n",
       "      <td>1803.60</td>\n",
       "      <td>2560x1600</td>\n",
       "      <td>IPSPanelRetinaDisplay</td>\n",
       "      <td>0.0</td>\n",
       "      <td>3.1</td>\n",
       "      <td>256.0</td>\n",
       "      <td>SSD</td>\n",
       "      <td>0.0</td>\n",
       "      <td>NaN</td>\n",
       "    </tr>\n",
       "  </tbody>\n",
       "</table>\n",
       "</div>"
      ],
      "text/plain": [
       "  company      product   typename  inches                   cpu  ram  \\\n",
       "0   Apple  MacBook Pro  Ultrabook    13.3        Intel Core i5     8   \n",
       "1   Apple  Macbook Air  Ultrabook    13.3        Intel Core i5     8   \n",
       "2      HP       250 G6   Notebook    15.6  Intel Core i5 7200U     8   \n",
       "3   Apple  MacBook Pro  Ultrabook    15.4        Intel Core i7    16   \n",
       "4   Apple  MacBook Pro  Ultrabook    13.3        Intel Core i5     8   \n",
       "\n",
       "                            gpu  opsys  weight    price resolution  \\\n",
       "0  Intel Iris Plus Graphics 640  macOS    1.37  1339.69  2560x1600   \n",
       "1        Intel HD Graphics 6000  macOS    1.34   898.94   1440x900   \n",
       "2         Intel HD Graphics 620  No OS    1.86   575.00  1920x1080   \n",
       "3            AMD Radeon Pro 455  macOS    1.83  2537.45  2880x1800   \n",
       "4  Intel Iris Plus Graphics 650  macOS    1.37  1803.60  2560x1600   \n",
       "\n",
       "              screentype  touchscreen  cpu_freq  memory_1(GB) memory_1_type  \\\n",
       "0  IPSPanelRetinaDisplay          0.0       2.3         128.0           SSD   \n",
       "1                    NaN          0.0       1.8         128.0  FlashStorage   \n",
       "2                    NaN          0.0       2.5         256.0           SSD   \n",
       "3  IPSPanelRetinaDisplay          0.0       2.7         512.0           SSD   \n",
       "4  IPSPanelRetinaDisplay          0.0       3.1         256.0           SSD   \n",
       "\n",
       "   memory_2(GB) memory_2_type  \n",
       "0           0.0           NaN  \n",
       "1           0.0           NaN  \n",
       "2           0.0           NaN  \n",
       "3           0.0           NaN  \n",
       "4           0.0           NaN  "
      ]
     },
     "execution_count": 120,
     "metadata": {},
     "output_type": "execute_result"
    }
   ],
   "source": [
    "df.head()"
   ]
  },
  {
   "cell_type": "code",
   "execution_count": 121,
   "id": "c6cd3c9f",
   "metadata": {},
   "outputs": [
    {
     "data": {
      "text/plain": [
       "cpu_brand\n",
       "Intel      1214\n",
       "AMD          60\n",
       "Samsung       1\n",
       "Name: count, dtype: int64"
      ]
     },
     "execution_count": 121,
     "metadata": {},
     "output_type": "execute_result"
    }
   ],
   "source": [
    "# Extract the brand name from cpu column\n",
    "df['cpu_brand'] = df['cpu'].str.extract(r'^(\\w+)')\n",
    "df['cpu_brand'].value_counts()"
   ]
  },
  {
   "cell_type": "code",
   "execution_count": 122,
   "id": "f7f2c27c",
   "metadata": {},
   "outputs": [
    {
     "data": {
      "text/html": [
       "<div>\n",
       "<style scoped>\n",
       "    .dataframe tbody tr th:only-of-type {\n",
       "        vertical-align: middle;\n",
       "    }\n",
       "\n",
       "    .dataframe tbody tr th {\n",
       "        vertical-align: top;\n",
       "    }\n",
       "\n",
       "    .dataframe thead th {\n",
       "        text-align: right;\n",
       "    }\n",
       "</style>\n",
       "<table border=\"1\" class=\"dataframe\">\n",
       "  <thead>\n",
       "    <tr style=\"text-align: right;\">\n",
       "      <th></th>\n",
       "      <th>company</th>\n",
       "      <th>product</th>\n",
       "      <th>typename</th>\n",
       "      <th>inches</th>\n",
       "      <th>cpu</th>\n",
       "      <th>ram</th>\n",
       "      <th>gpu</th>\n",
       "      <th>opsys</th>\n",
       "      <th>weight</th>\n",
       "      <th>price</th>\n",
       "      <th>resolution</th>\n",
       "      <th>screentype</th>\n",
       "      <th>touchscreen</th>\n",
       "      <th>cpu_freq</th>\n",
       "      <th>memory_1(GB)</th>\n",
       "      <th>memory_1_type</th>\n",
       "      <th>memory_2(GB)</th>\n",
       "      <th>memory_2_type</th>\n",
       "      <th>cpu_brand</th>\n",
       "    </tr>\n",
       "  </thead>\n",
       "  <tbody>\n",
       "    <tr>\n",
       "      <th>1191</th>\n",
       "      <td>Samsung</td>\n",
       "      <td>Chromebook Plus</td>\n",
       "      <td>2 in 1 Convertible</td>\n",
       "      <td>12.3</td>\n",
       "      <td>Samsung Cortex A72&amp;A53</td>\n",
       "      <td>4</td>\n",
       "      <td>ARM Mali T860 MP4</td>\n",
       "      <td>Chrome OS</td>\n",
       "      <td>1.15</td>\n",
       "      <td>659.0</td>\n",
       "      <td>2400x1600</td>\n",
       "      <td>IPSPanel</td>\n",
       "      <td>1.0</td>\n",
       "      <td>2.0</td>\n",
       "      <td>32.0</td>\n",
       "      <td>FlashStorage</td>\n",
       "      <td>0.0</td>\n",
       "      <td>NaN</td>\n",
       "      <td>Samsung</td>\n",
       "    </tr>\n",
       "  </tbody>\n",
       "</table>\n",
       "</div>"
      ],
      "text/plain": [
       "      company          product            typename  inches  \\\n",
       "1191  Samsung  Chromebook Plus  2 in 1 Convertible    12.3   \n",
       "\n",
       "                          cpu  ram                gpu      opsys  weight  \\\n",
       "1191  Samsung Cortex A72&A53     4  ARM Mali T860 MP4  Chrome OS    1.15   \n",
       "\n",
       "      price resolution screentype  touchscreen  cpu_freq  memory_1(GB)  \\\n",
       "1191  659.0  2400x1600   IPSPanel          1.0       2.0          32.0   \n",
       "\n",
       "     memory_1_type  memory_2(GB) memory_2_type cpu_brand  \n",
       "1191  FlashStorage           0.0           NaN   Samsung  "
      ]
     },
     "execution_count": 122,
     "metadata": {},
     "output_type": "execute_result"
    }
   ],
   "source": [
    "df[df[\"cpu_brand\"]==\"Samsung\"]"
   ]
  },
  {
   "cell_type": "code",
   "execution_count": 123,
   "id": "5923ae76",
   "metadata": {},
   "outputs": [],
   "source": [
    "# As we have only 1 Samsung based cpu_brand, Let's drop it for simplying the analysis\n",
    "df = df.drop(1191)"
   ]
  },
  {
   "cell_type": "code",
   "execution_count": 124,
   "id": "a569e89e",
   "metadata": {},
   "outputs": [
    {
     "data": {
      "text/plain": [
       "gpu_brand\n",
       "Intel     704\n",
       "Nvidia    396\n",
       "AMD       174\n",
       "Name: count, dtype: int64"
      ]
     },
     "execution_count": 124,
     "metadata": {},
     "output_type": "execute_result"
    }
   ],
   "source": [
    "df['gpu_brand'] = df['gpu'].str.extract(r'^(\\w+)')\n",
    "df['gpu_brand'].value_counts()"
   ]
  },
  {
   "cell_type": "code",
   "execution_count": 126,
   "id": "4bed4ddb",
   "metadata": {},
   "outputs": [
    {
     "data": {
      "text/html": [
       "<div>\n",
       "<style scoped>\n",
       "    .dataframe tbody tr th:only-of-type {\n",
       "        vertical-align: middle;\n",
       "    }\n",
       "\n",
       "    .dataframe tbody tr th {\n",
       "        vertical-align: top;\n",
       "    }\n",
       "\n",
       "    .dataframe thead th {\n",
       "        text-align: right;\n",
       "    }\n",
       "</style>\n",
       "<table border=\"1\" class=\"dataframe\">\n",
       "  <thead>\n",
       "    <tr style=\"text-align: right;\">\n",
       "      <th></th>\n",
       "      <th>company</th>\n",
       "      <th>product</th>\n",
       "      <th>typename</th>\n",
       "      <th>inches</th>\n",
       "      <th>cpu</th>\n",
       "      <th>ram</th>\n",
       "      <th>gpu</th>\n",
       "      <th>opsys</th>\n",
       "      <th>weight</th>\n",
       "      <th>price</th>\n",
       "      <th>resolution</th>\n",
       "      <th>screentype</th>\n",
       "      <th>touchscreen</th>\n",
       "      <th>cpu_freq</th>\n",
       "      <th>memory_1(GB)</th>\n",
       "      <th>memory_1_type</th>\n",
       "      <th>memory_2(GB)</th>\n",
       "      <th>memory_2_type</th>\n",
       "      <th>cpu_brand</th>\n",
       "      <th>gpu_brand</th>\n",
       "    </tr>\n",
       "  </thead>\n",
       "  <tbody>\n",
       "    <tr>\n",
       "      <th>0</th>\n",
       "      <td>Apple</td>\n",
       "      <td>MacBook Pro</td>\n",
       "      <td>Ultrabook</td>\n",
       "      <td>13.3</td>\n",
       "      <td>Intel Core i5</td>\n",
       "      <td>8</td>\n",
       "      <td>Intel Iris Plus Graphics 640</td>\n",
       "      <td>macOS</td>\n",
       "      <td>1.37</td>\n",
       "      <td>1339.69</td>\n",
       "      <td>2560x1600</td>\n",
       "      <td>IPSPanelRetinaDisplay</td>\n",
       "      <td>0.0</td>\n",
       "      <td>2.3</td>\n",
       "      <td>128.0</td>\n",
       "      <td>SSD</td>\n",
       "      <td>0.0</td>\n",
       "      <td>NaN</td>\n",
       "      <td>Intel</td>\n",
       "      <td>Intel</td>\n",
       "    </tr>\n",
       "    <tr>\n",
       "      <th>1</th>\n",
       "      <td>Apple</td>\n",
       "      <td>Macbook Air</td>\n",
       "      <td>Ultrabook</td>\n",
       "      <td>13.3</td>\n",
       "      <td>Intel Core i5</td>\n",
       "      <td>8</td>\n",
       "      <td>Intel HD Graphics 6000</td>\n",
       "      <td>macOS</td>\n",
       "      <td>1.34</td>\n",
       "      <td>898.94</td>\n",
       "      <td>1440x900</td>\n",
       "      <td>NaN</td>\n",
       "      <td>0.0</td>\n",
       "      <td>1.8</td>\n",
       "      <td>128.0</td>\n",
       "      <td>FlashStorage</td>\n",
       "      <td>0.0</td>\n",
       "      <td>NaN</td>\n",
       "      <td>Intel</td>\n",
       "      <td>Intel</td>\n",
       "    </tr>\n",
       "    <tr>\n",
       "      <th>2</th>\n",
       "      <td>HP</td>\n",
       "      <td>250 G6</td>\n",
       "      <td>Notebook</td>\n",
       "      <td>15.6</td>\n",
       "      <td>Intel Core i5 7200U</td>\n",
       "      <td>8</td>\n",
       "      <td>Intel HD Graphics 620</td>\n",
       "      <td>No OS</td>\n",
       "      <td>1.86</td>\n",
       "      <td>575.00</td>\n",
       "      <td>1920x1080</td>\n",
       "      <td>NaN</td>\n",
       "      <td>0.0</td>\n",
       "      <td>2.5</td>\n",
       "      <td>256.0</td>\n",
       "      <td>SSD</td>\n",
       "      <td>0.0</td>\n",
       "      <td>NaN</td>\n",
       "      <td>Intel</td>\n",
       "      <td>Intel</td>\n",
       "    </tr>\n",
       "    <tr>\n",
       "      <th>3</th>\n",
       "      <td>Apple</td>\n",
       "      <td>MacBook Pro</td>\n",
       "      <td>Ultrabook</td>\n",
       "      <td>15.4</td>\n",
       "      <td>Intel Core i7</td>\n",
       "      <td>16</td>\n",
       "      <td>AMD Radeon Pro 455</td>\n",
       "      <td>macOS</td>\n",
       "      <td>1.83</td>\n",
       "      <td>2537.45</td>\n",
       "      <td>2880x1800</td>\n",
       "      <td>IPSPanelRetinaDisplay</td>\n",
       "      <td>0.0</td>\n",
       "      <td>2.7</td>\n",
       "      <td>512.0</td>\n",
       "      <td>SSD</td>\n",
       "      <td>0.0</td>\n",
       "      <td>NaN</td>\n",
       "      <td>Intel</td>\n",
       "      <td>AMD</td>\n",
       "    </tr>\n",
       "    <tr>\n",
       "      <th>4</th>\n",
       "      <td>Apple</td>\n",
       "      <td>MacBook Pro</td>\n",
       "      <td>Ultrabook</td>\n",
       "      <td>13.3</td>\n",
       "      <td>Intel Core i5</td>\n",
       "      <td>8</td>\n",
       "      <td>Intel Iris Plus Graphics 650</td>\n",
       "      <td>macOS</td>\n",
       "      <td>1.37</td>\n",
       "      <td>1803.60</td>\n",
       "      <td>2560x1600</td>\n",
       "      <td>IPSPanelRetinaDisplay</td>\n",
       "      <td>0.0</td>\n",
       "      <td>3.1</td>\n",
       "      <td>256.0</td>\n",
       "      <td>SSD</td>\n",
       "      <td>0.0</td>\n",
       "      <td>NaN</td>\n",
       "      <td>Intel</td>\n",
       "      <td>Intel</td>\n",
       "    </tr>\n",
       "  </tbody>\n",
       "</table>\n",
       "</div>"
      ],
      "text/plain": [
       "  company      product   typename  inches                   cpu  ram  \\\n",
       "0   Apple  MacBook Pro  Ultrabook    13.3        Intel Core i5     8   \n",
       "1   Apple  Macbook Air  Ultrabook    13.3        Intel Core i5     8   \n",
       "2      HP       250 G6   Notebook    15.6  Intel Core i5 7200U     8   \n",
       "3   Apple  MacBook Pro  Ultrabook    15.4        Intel Core i7    16   \n",
       "4   Apple  MacBook Pro  Ultrabook    13.3        Intel Core i5     8   \n",
       "\n",
       "                            gpu  opsys  weight    price resolution  \\\n",
       "0  Intel Iris Plus Graphics 640  macOS    1.37  1339.69  2560x1600   \n",
       "1        Intel HD Graphics 6000  macOS    1.34   898.94   1440x900   \n",
       "2         Intel HD Graphics 620  No OS    1.86   575.00  1920x1080   \n",
       "3            AMD Radeon Pro 455  macOS    1.83  2537.45  2880x1800   \n",
       "4  Intel Iris Plus Graphics 650  macOS    1.37  1803.60  2560x1600   \n",
       "\n",
       "              screentype  touchscreen  cpu_freq  memory_1(GB) memory_1_type  \\\n",
       "0  IPSPanelRetinaDisplay          0.0       2.3         128.0           SSD   \n",
       "1                    NaN          0.0       1.8         128.0  FlashStorage   \n",
       "2                    NaN          0.0       2.5         256.0           SSD   \n",
       "3  IPSPanelRetinaDisplay          0.0       2.7         512.0           SSD   \n",
       "4  IPSPanelRetinaDisplay          0.0       3.1         256.0           SSD   \n",
       "\n",
       "   memory_2(GB) memory_2_type cpu_brand gpu_brand  \n",
       "0           0.0           NaN     Intel     Intel  \n",
       "1           0.0           NaN     Intel     Intel  \n",
       "2           0.0           NaN     Intel     Intel  \n",
       "3           0.0           NaN     Intel       AMD  \n",
       "4           0.0           NaN     Intel     Intel  "
      ]
     },
     "execution_count": 126,
     "metadata": {},
     "output_type": "execute_result"
    }
   ],
   "source": [
    "df.head()"
   ]
  },
  {
   "cell_type": "code",
   "execution_count": 134,
   "id": "060994be",
   "metadata": {},
   "outputs": [],
   "source": [
    "# Rename the columns\n",
    "df = df.rename(columns={\n",
    "    \"ram\": \"ram(GB)\",\n",
    "    \"opsys\": \"os\",\n",
    "    \"weight\": \"weight(KG)\",\n",
    "    \"cpu_freq\": \"cpu_freq(GHz)\"\n",
    "})"
   ]
  },
  {
   "cell_type": "code",
   "execution_count": 133,
   "id": "f887ed20",
   "metadata": {},
   "outputs": [
    {
     "data": {
      "text/html": [
       "<div>\n",
       "<style scoped>\n",
       "    .dataframe tbody tr th:only-of-type {\n",
       "        vertical-align: middle;\n",
       "    }\n",
       "\n",
       "    .dataframe tbody tr th {\n",
       "        vertical-align: top;\n",
       "    }\n",
       "\n",
       "    .dataframe thead th {\n",
       "        text-align: right;\n",
       "    }\n",
       "</style>\n",
       "<table border=\"1\" class=\"dataframe\">\n",
       "  <thead>\n",
       "    <tr style=\"text-align: right;\">\n",
       "      <th></th>\n",
       "      <th>company</th>\n",
       "      <th>product</th>\n",
       "      <th>typename</th>\n",
       "      <th>inches</th>\n",
       "      <th>cpu</th>\n",
       "      <th>ram(GB)</th>\n",
       "      <th>gpu</th>\n",
       "      <th>os</th>\n",
       "      <th>weight(KG)</th>\n",
       "      <th>price</th>\n",
       "      <th>resolution</th>\n",
       "      <th>screentype</th>\n",
       "      <th>touchscreen</th>\n",
       "      <th>cpu_freq(GHz)</th>\n",
       "      <th>memory_1(GB)</th>\n",
       "      <th>memory_1_type</th>\n",
       "      <th>memory_2(GB)</th>\n",
       "      <th>memory_2_type</th>\n",
       "      <th>cpu_brand</th>\n",
       "      <th>gpu_brand</th>\n",
       "    </tr>\n",
       "  </thead>\n",
       "  <tbody>\n",
       "    <tr>\n",
       "      <th>0</th>\n",
       "      <td>Apple</td>\n",
       "      <td>MacBook Pro</td>\n",
       "      <td>Ultrabook</td>\n",
       "      <td>13.3</td>\n",
       "      <td>Intel Core i5</td>\n",
       "      <td>8</td>\n",
       "      <td>Intel Iris Plus Graphics 640</td>\n",
       "      <td>macOS</td>\n",
       "      <td>1.37</td>\n",
       "      <td>1339.69</td>\n",
       "      <td>2560x1600</td>\n",
       "      <td>IPSPanelRetinaDisplay</td>\n",
       "      <td>0.0</td>\n",
       "      <td>2.3</td>\n",
       "      <td>128.0</td>\n",
       "      <td>SSD</td>\n",
       "      <td>0.0</td>\n",
       "      <td>NaN</td>\n",
       "      <td>Intel</td>\n",
       "      <td>Intel</td>\n",
       "    </tr>\n",
       "    <tr>\n",
       "      <th>1</th>\n",
       "      <td>Apple</td>\n",
       "      <td>Macbook Air</td>\n",
       "      <td>Ultrabook</td>\n",
       "      <td>13.3</td>\n",
       "      <td>Intel Core i5</td>\n",
       "      <td>8</td>\n",
       "      <td>Intel HD Graphics 6000</td>\n",
       "      <td>macOS</td>\n",
       "      <td>1.34</td>\n",
       "      <td>898.94</td>\n",
       "      <td>1440x900</td>\n",
       "      <td>NaN</td>\n",
       "      <td>0.0</td>\n",
       "      <td>1.8</td>\n",
       "      <td>128.0</td>\n",
       "      <td>FlashStorage</td>\n",
       "      <td>0.0</td>\n",
       "      <td>NaN</td>\n",
       "      <td>Intel</td>\n",
       "      <td>Intel</td>\n",
       "    </tr>\n",
       "    <tr>\n",
       "      <th>2</th>\n",
       "      <td>HP</td>\n",
       "      <td>250 G6</td>\n",
       "      <td>Notebook</td>\n",
       "      <td>15.6</td>\n",
       "      <td>Intel Core i5 7200U</td>\n",
       "      <td>8</td>\n",
       "      <td>Intel HD Graphics 620</td>\n",
       "      <td>No OS</td>\n",
       "      <td>1.86</td>\n",
       "      <td>575.00</td>\n",
       "      <td>1920x1080</td>\n",
       "      <td>NaN</td>\n",
       "      <td>0.0</td>\n",
       "      <td>2.5</td>\n",
       "      <td>256.0</td>\n",
       "      <td>SSD</td>\n",
       "      <td>0.0</td>\n",
       "      <td>NaN</td>\n",
       "      <td>Intel</td>\n",
       "      <td>Intel</td>\n",
       "    </tr>\n",
       "    <tr>\n",
       "      <th>3</th>\n",
       "      <td>Apple</td>\n",
       "      <td>MacBook Pro</td>\n",
       "      <td>Ultrabook</td>\n",
       "      <td>15.4</td>\n",
       "      <td>Intel Core i7</td>\n",
       "      <td>16</td>\n",
       "      <td>AMD Radeon Pro 455</td>\n",
       "      <td>macOS</td>\n",
       "      <td>1.83</td>\n",
       "      <td>2537.45</td>\n",
       "      <td>2880x1800</td>\n",
       "      <td>IPSPanelRetinaDisplay</td>\n",
       "      <td>0.0</td>\n",
       "      <td>2.7</td>\n",
       "      <td>512.0</td>\n",
       "      <td>SSD</td>\n",
       "      <td>0.0</td>\n",
       "      <td>NaN</td>\n",
       "      <td>Intel</td>\n",
       "      <td>AMD</td>\n",
       "    </tr>\n",
       "    <tr>\n",
       "      <th>4</th>\n",
       "      <td>Apple</td>\n",
       "      <td>MacBook Pro</td>\n",
       "      <td>Ultrabook</td>\n",
       "      <td>13.3</td>\n",
       "      <td>Intel Core i5</td>\n",
       "      <td>8</td>\n",
       "      <td>Intel Iris Plus Graphics 650</td>\n",
       "      <td>macOS</td>\n",
       "      <td>1.37</td>\n",
       "      <td>1803.60</td>\n",
       "      <td>2560x1600</td>\n",
       "      <td>IPSPanelRetinaDisplay</td>\n",
       "      <td>0.0</td>\n",
       "      <td>3.1</td>\n",
       "      <td>256.0</td>\n",
       "      <td>SSD</td>\n",
       "      <td>0.0</td>\n",
       "      <td>NaN</td>\n",
       "      <td>Intel</td>\n",
       "      <td>Intel</td>\n",
       "    </tr>\n",
       "  </tbody>\n",
       "</table>\n",
       "</div>"
      ],
      "text/plain": [
       "  company      product   typename  inches                   cpu  ram(GB)  \\\n",
       "0   Apple  MacBook Pro  Ultrabook    13.3        Intel Core i5         8   \n",
       "1   Apple  Macbook Air  Ultrabook    13.3        Intel Core i5         8   \n",
       "2      HP       250 G6   Notebook    15.6  Intel Core i5 7200U         8   \n",
       "3   Apple  MacBook Pro  Ultrabook    15.4        Intel Core i7        16   \n",
       "4   Apple  MacBook Pro  Ultrabook    13.3        Intel Core i5         8   \n",
       "\n",
       "                            gpu     os  weight(KG)    price resolution  \\\n",
       "0  Intel Iris Plus Graphics 640  macOS        1.37  1339.69  2560x1600   \n",
       "1        Intel HD Graphics 6000  macOS        1.34   898.94   1440x900   \n",
       "2         Intel HD Graphics 620  No OS        1.86   575.00  1920x1080   \n",
       "3            AMD Radeon Pro 455  macOS        1.83  2537.45  2880x1800   \n",
       "4  Intel Iris Plus Graphics 650  macOS        1.37  1803.60  2560x1600   \n",
       "\n",
       "              screentype  touchscreen  cpu_freq(GHz)  memory_1(GB)  \\\n",
       "0  IPSPanelRetinaDisplay          0.0            2.3         128.0   \n",
       "1                    NaN          0.0            1.8         128.0   \n",
       "2                    NaN          0.0            2.5         256.0   \n",
       "3  IPSPanelRetinaDisplay          0.0            2.7         512.0   \n",
       "4  IPSPanelRetinaDisplay          0.0            3.1         256.0   \n",
       "\n",
       "  memory_1_type  memory_2(GB) memory_2_type cpu_brand gpu_brand  \n",
       "0           SSD           0.0           NaN     Intel     Intel  \n",
       "1  FlashStorage           0.0           NaN     Intel     Intel  \n",
       "2           SSD           0.0           NaN     Intel     Intel  \n",
       "3           SSD           0.0           NaN     Intel       AMD  \n",
       "4           SSD           0.0           NaN     Intel     Intel  "
      ]
     },
     "execution_count": 133,
     "metadata": {},
     "output_type": "execute_result"
    }
   ],
   "source": [
    "df.head()"
   ]
  },
  {
   "cell_type": "code",
   "execution_count": 135,
   "id": "f7e67caf",
   "metadata": {},
   "outputs": [
    {
     "name": "stdout",
     "output_type": "stream",
     "text": [
      "<class 'pandas.core.frame.DataFrame'>\n",
      "Index: 1274 entries, 0 to 1274\n",
      "Data columns (total 20 columns):\n",
      " #   Column         Non-Null Count  Dtype  \n",
      "---  ------         --------------  -----  \n",
      " 0   company        1274 non-null   object \n",
      " 1   product        1274 non-null   object \n",
      " 2   typename       1274 non-null   object \n",
      " 3   inches         1274 non-null   float64\n",
      " 4   cpu            1274 non-null   object \n",
      " 5   ram(GB)        1274 non-null   int32  \n",
      " 6   gpu            1274 non-null   object \n",
      " 7   os             1274 non-null   object \n",
      " 8   weight(KG)     1274 non-null   float64\n",
      " 9   price          1274 non-null   float64\n",
      " 10  resolution     1274 non-null   object \n",
      " 11  screentype     356 non-null    object \n",
      " 12  touchscreen    1274 non-null   float64\n",
      " 13  cpu_freq(GHz)  1274 non-null   float64\n",
      " 14  memory_1(GB)   1274 non-null   float64\n",
      " 15  memory_1_type  1274 non-null   object \n",
      " 16  memory_2(GB)   1274 non-null   float64\n",
      " 17  memory_2_type  208 non-null    object \n",
      " 18  cpu_brand      1274 non-null   object \n",
      " 19  gpu_brand      1274 non-null   object \n",
      "dtypes: float64(7), int32(1), object(12)\n",
      "memory usage: 204.0+ KB\n"
     ]
    }
   ],
   "source": [
    "df.info()"
   ]
  },
  {
   "cell_type": "code",
   "execution_count": 136,
   "id": "9e7f8a36",
   "metadata": {},
   "outputs": [],
   "source": [
    "df.to_csv('laptop-clean.csv', index=False)"
   ]
  },
  {
   "cell_type": "markdown",
   "id": "2c3f7f62",
   "metadata": {},
   "source": [
    "## Exploratory Data Analysis"
   ]
  },
  {
   "cell_type": "code",
   "execution_count": 137,
   "id": "24dca141",
   "metadata": {},
   "outputs": [],
   "source": [
    "df1 = pd.read_csv(\"data/laptop-clean.csv\")"
   ]
  },
  {
   "cell_type": "code",
   "execution_count": 138,
   "id": "a49a12c6",
   "metadata": {},
   "outputs": [
    {
     "data": {
      "text/html": [
       "<div>\n",
       "<style scoped>\n",
       "    .dataframe tbody tr th:only-of-type {\n",
       "        vertical-align: middle;\n",
       "    }\n",
       "\n",
       "    .dataframe tbody tr th {\n",
       "        vertical-align: top;\n",
       "    }\n",
       "\n",
       "    .dataframe thead th {\n",
       "        text-align: right;\n",
       "    }\n",
       "</style>\n",
       "<table border=\"1\" class=\"dataframe\">\n",
       "  <thead>\n",
       "    <tr style=\"text-align: right;\">\n",
       "      <th></th>\n",
       "      <th>company</th>\n",
       "      <th>product</th>\n",
       "      <th>typename</th>\n",
       "      <th>inches</th>\n",
       "      <th>cpu</th>\n",
       "      <th>ram(GB)</th>\n",
       "      <th>gpu</th>\n",
       "      <th>os</th>\n",
       "      <th>weight(KG)</th>\n",
       "      <th>price</th>\n",
       "      <th>resolution</th>\n",
       "      <th>screentype</th>\n",
       "      <th>touchscreen</th>\n",
       "      <th>cpu_freq(GHz)</th>\n",
       "      <th>memory_1(GB)</th>\n",
       "      <th>memory_1_type</th>\n",
       "      <th>memory_2(GB)</th>\n",
       "      <th>memory_2_type</th>\n",
       "      <th>cpu_brand</th>\n",
       "      <th>gpu_brand</th>\n",
       "    </tr>\n",
       "  </thead>\n",
       "  <tbody>\n",
       "    <tr>\n",
       "      <th>0</th>\n",
       "      <td>Apple</td>\n",
       "      <td>MacBook Pro</td>\n",
       "      <td>Ultrabook</td>\n",
       "      <td>13.3</td>\n",
       "      <td>Intel Core i5</td>\n",
       "      <td>8</td>\n",
       "      <td>Intel Iris Plus Graphics 640</td>\n",
       "      <td>macOS</td>\n",
       "      <td>1.37</td>\n",
       "      <td>1339.69</td>\n",
       "      <td>2560x1600</td>\n",
       "      <td>IPSPanelRetinaDisplay</td>\n",
       "      <td>0.0</td>\n",
       "      <td>2.3</td>\n",
       "      <td>128.0</td>\n",
       "      <td>SSD</td>\n",
       "      <td>0.0</td>\n",
       "      <td>NaN</td>\n",
       "      <td>Intel</td>\n",
       "      <td>Intel</td>\n",
       "    </tr>\n",
       "    <tr>\n",
       "      <th>1</th>\n",
       "      <td>Apple</td>\n",
       "      <td>Macbook Air</td>\n",
       "      <td>Ultrabook</td>\n",
       "      <td>13.3</td>\n",
       "      <td>Intel Core i5</td>\n",
       "      <td>8</td>\n",
       "      <td>Intel HD Graphics 6000</td>\n",
       "      <td>macOS</td>\n",
       "      <td>1.34</td>\n",
       "      <td>898.94</td>\n",
       "      <td>1440x900</td>\n",
       "      <td>NaN</td>\n",
       "      <td>0.0</td>\n",
       "      <td>1.8</td>\n",
       "      <td>128.0</td>\n",
       "      <td>FlashStorage</td>\n",
       "      <td>0.0</td>\n",
       "      <td>NaN</td>\n",
       "      <td>Intel</td>\n",
       "      <td>Intel</td>\n",
       "    </tr>\n",
       "    <tr>\n",
       "      <th>2</th>\n",
       "      <td>HP</td>\n",
       "      <td>250 G6</td>\n",
       "      <td>Notebook</td>\n",
       "      <td>15.6</td>\n",
       "      <td>Intel Core i5 7200U</td>\n",
       "      <td>8</td>\n",
       "      <td>Intel HD Graphics 620</td>\n",
       "      <td>No OS</td>\n",
       "      <td>1.86</td>\n",
       "      <td>575.00</td>\n",
       "      <td>1920x1080</td>\n",
       "      <td>NaN</td>\n",
       "      <td>0.0</td>\n",
       "      <td>2.5</td>\n",
       "      <td>256.0</td>\n",
       "      <td>SSD</td>\n",
       "      <td>0.0</td>\n",
       "      <td>NaN</td>\n",
       "      <td>Intel</td>\n",
       "      <td>Intel</td>\n",
       "    </tr>\n",
       "    <tr>\n",
       "      <th>3</th>\n",
       "      <td>Apple</td>\n",
       "      <td>MacBook Pro</td>\n",
       "      <td>Ultrabook</td>\n",
       "      <td>15.4</td>\n",
       "      <td>Intel Core i7</td>\n",
       "      <td>16</td>\n",
       "      <td>AMD Radeon Pro 455</td>\n",
       "      <td>macOS</td>\n",
       "      <td>1.83</td>\n",
       "      <td>2537.45</td>\n",
       "      <td>2880x1800</td>\n",
       "      <td>IPSPanelRetinaDisplay</td>\n",
       "      <td>0.0</td>\n",
       "      <td>2.7</td>\n",
       "      <td>512.0</td>\n",
       "      <td>SSD</td>\n",
       "      <td>0.0</td>\n",
       "      <td>NaN</td>\n",
       "      <td>Intel</td>\n",
       "      <td>AMD</td>\n",
       "    </tr>\n",
       "    <tr>\n",
       "      <th>4</th>\n",
       "      <td>Apple</td>\n",
       "      <td>MacBook Pro</td>\n",
       "      <td>Ultrabook</td>\n",
       "      <td>13.3</td>\n",
       "      <td>Intel Core i5</td>\n",
       "      <td>8</td>\n",
       "      <td>Intel Iris Plus Graphics 650</td>\n",
       "      <td>macOS</td>\n",
       "      <td>1.37</td>\n",
       "      <td>1803.60</td>\n",
       "      <td>2560x1600</td>\n",
       "      <td>IPSPanelRetinaDisplay</td>\n",
       "      <td>0.0</td>\n",
       "      <td>3.1</td>\n",
       "      <td>256.0</td>\n",
       "      <td>SSD</td>\n",
       "      <td>0.0</td>\n",
       "      <td>NaN</td>\n",
       "      <td>Intel</td>\n",
       "      <td>Intel</td>\n",
       "    </tr>\n",
       "  </tbody>\n",
       "</table>\n",
       "</div>"
      ],
      "text/plain": [
       "  company      product   typename  inches                   cpu  ram(GB)  \\\n",
       "0   Apple  MacBook Pro  Ultrabook    13.3        Intel Core i5         8   \n",
       "1   Apple  Macbook Air  Ultrabook    13.3        Intel Core i5         8   \n",
       "2      HP       250 G6   Notebook    15.6  Intel Core i5 7200U         8   \n",
       "3   Apple  MacBook Pro  Ultrabook    15.4        Intel Core i7        16   \n",
       "4   Apple  MacBook Pro  Ultrabook    13.3        Intel Core i5         8   \n",
       "\n",
       "                            gpu     os  weight(KG)    price resolution  \\\n",
       "0  Intel Iris Plus Graphics 640  macOS        1.37  1339.69  2560x1600   \n",
       "1        Intel HD Graphics 6000  macOS        1.34   898.94   1440x900   \n",
       "2         Intel HD Graphics 620  No OS        1.86   575.00  1920x1080   \n",
       "3            AMD Radeon Pro 455  macOS        1.83  2537.45  2880x1800   \n",
       "4  Intel Iris Plus Graphics 650  macOS        1.37  1803.60  2560x1600   \n",
       "\n",
       "              screentype  touchscreen  cpu_freq(GHz)  memory_1(GB)  \\\n",
       "0  IPSPanelRetinaDisplay          0.0            2.3         128.0   \n",
       "1                    NaN          0.0            1.8         128.0   \n",
       "2                    NaN          0.0            2.5         256.0   \n",
       "3  IPSPanelRetinaDisplay          0.0            2.7         512.0   \n",
       "4  IPSPanelRetinaDisplay          0.0            3.1         256.0   \n",
       "\n",
       "  memory_1_type  memory_2(GB) memory_2_type cpu_brand gpu_brand  \n",
       "0           SSD           0.0           NaN     Intel     Intel  \n",
       "1  FlashStorage           0.0           NaN     Intel     Intel  \n",
       "2           SSD           0.0           NaN     Intel     Intel  \n",
       "3           SSD           0.0           NaN     Intel       AMD  \n",
       "4           SSD           0.0           NaN     Intel     Intel  "
      ]
     },
     "execution_count": 138,
     "metadata": {},
     "output_type": "execute_result"
    }
   ],
   "source": [
    "df1.head()"
   ]
  },
  {
   "cell_type": "code",
   "execution_count": 139,
   "id": "53c53b9f",
   "metadata": {},
   "outputs": [],
   "source": [
    "df_clean = df1.copy()"
   ]
  },
  {
   "cell_type": "code",
   "execution_count": 140,
   "id": "ee4485d1",
   "metadata": {},
   "outputs": [
    {
     "name": "stdout",
     "output_type": "stream",
     "text": [
      "<class 'pandas.core.frame.DataFrame'>\n",
      "RangeIndex: 1274 entries, 0 to 1273\n",
      "Data columns (total 20 columns):\n",
      " #   Column         Non-Null Count  Dtype  \n",
      "---  ------         --------------  -----  \n",
      " 0   company        1274 non-null   object \n",
      " 1   product        1274 non-null   object \n",
      " 2   typename       1274 non-null   object \n",
      " 3   inches         1274 non-null   float64\n",
      " 4   cpu            1274 non-null   object \n",
      " 5   ram(GB)        1274 non-null   int64  \n",
      " 6   gpu            1274 non-null   object \n",
      " 7   os             1274 non-null   object \n",
      " 8   weight(KG)     1274 non-null   float64\n",
      " 9   price          1274 non-null   float64\n",
      " 10  resolution     1274 non-null   object \n",
      " 11  screentype     356 non-null    object \n",
      " 12  touchscreen    1274 non-null   float64\n",
      " 13  cpu_freq(GHz)  1274 non-null   float64\n",
      " 14  memory_1(GB)   1274 non-null   float64\n",
      " 15  memory_1_type  1274 non-null   object \n",
      " 16  memory_2(GB)   1274 non-null   float64\n",
      " 17  memory_2_type  208 non-null    object \n",
      " 18  cpu_brand      1274 non-null   object \n",
      " 19  gpu_brand      1274 non-null   object \n",
      "dtypes: float64(7), int64(1), object(12)\n",
      "memory usage: 199.2+ KB\n"
     ]
    }
   ],
   "source": [
    "df1.info()"
   ]
  },
  {
   "cell_type": "code",
   "execution_count": 163,
   "id": "cb3dcddb",
   "metadata": {},
   "outputs": [],
   "source": [
    "def num_plot(df, col, title, symb):\n",
    "    fig, ax = plt.subplots(2, 1, sharex=True, figsize=(8,5),gridspec_kw={\"height_ratios\": (.2, .8)})\n",
    "    ax[0].set_title(title,fontsize=18)\n",
    "    sns.boxplot(x=col, data=df, ax=ax[0])\n",
    "    ax[0].set(yticks=[])\n",
    "    sns.histplot(x=col, data=df, ax=ax[1])\n",
    "    ax[1].set_xlabel(col, fontsize=16)\n",
    "    plt.axvline(df[col].mean(), color='darkgreen', linewidth=2.2, label='mean=' + str(np.round(df[col].mean(),1)) + symb)\n",
    "    plt.axvline(df[col].median(), color='red', linewidth=2.2, label='median='+ str(np.round(df[col].median(),1)) + symb)\n",
    "    plt.axvline(df[col].mode()[0], color='purple', linewidth=2.2, label='mode='+ str(df[col].mode()[0]) + symb)\n",
    "    plt.legend(bbox_to_anchor=(1, 1.03), ncol=1, fontsize=17, fancybox=True, shadow=True, frameon=True)\n",
    "    plt.tight_layout()\n",
    "    plt.show()\n",
    "\n",
    "def countPlot(df, col, title):\n",
    "    fig, ax = plt.subplots(figsize=(10,5))\n",
    "    ax = sns.countplot(x=col,data=df, palette=\"mako_r\", order=df[col].value_counts().index)\n",
    "    ax.set_xticklabels(ax.get_xticklabels(), rotation=80)\n",
    "    ax.bar_label(ax.containers[0])\n",
    "    plt.title(title)\n",
    "    plt.show()"
   ]
  },
  {
   "cell_type": "markdown",
   "id": "6d06e325",
   "metadata": {},
   "source": [
    "### What brand is the most frequent from the above dataframe?\n",
    "> Dell, Lenovo and HP cover more than 50% of the total number of laptops"
   ]
  },
  {
   "cell_type": "code",
   "execution_count": 164,
   "id": "96707c84",
   "metadata": {},
   "outputs": [
    {
     "data": {
      "image/png": "[encoded data removed]",
      "text/plain": [
       "<Figure size 1000x500 with 1 Axes>"
      ]
     },
     "metadata": {},
     "output_type": "display_data"
    }
   ],
   "source": [
    "countPlot(df1, \"company\", \"Number of laptops by brands\")"
   ]
  },
  {
   "cell_type": "markdown",
   "id": "ed94efb1",
   "metadata": {},
   "source": [
    "### What type of laptop is most frequent?\n"
   ]
  },
  {
   "cell_type": "code",
   "execution_count": 165,
   "id": "3c898792",
   "metadata": {},
   "outputs": [
    {
     "data": {
      "image/png": "[encoded data removed]",
      "text/plain": [
       "<Figure size 1000x500 with 1 Axes>"
      ]
     },
     "metadata": {},
     "output_type": "display_data"
    }
   ],
   "source": [
    "# countPlot()\n",
    "countPlot(df1, \"typename\",\"Number of laptops by type\")"
   ]
  },
  {
   "cell_type": "code",
   "execution_count": 166,
   "id": "828946da",
   "metadata": {},
   "outputs": [
    {
     "name": "stdout",
     "output_type": "stream",
     "text": [
      "Most of the laptop are notebooks which comprise 55.49% of all the laptops.\n"
     ]
    }
   ],
   "source": [
    "print(\"Most of the laptop are notebooks which comprise {:.2f}% of all the laptops.\".format(len(df1[df1[\"typename\"]==\"Notebook\"])*100 / len(df1[\"typename\"])))"
   ]
  },
  {
   "cell_type": "markdown",
   "id": "133443a0",
   "metadata": {},
   "source": [
    "### Which size is most popular?"
   ]
  },
  {
   "cell_type": "code",
   "execution_count": 167,
   "id": "8e2f25ce",
   "metadata": {},
   "outputs": [
    {
     "data": {
      "image/png": "[encoded data removed]",
      "text/plain": [
       "<Figure size 1000x500 with 1 Axes>"
      ]
     },
     "metadata": {},
     "output_type": "display_data"
    }
   ],
   "source": [
    "countPlot(df1, \"inches\",\"Number of laptops by inches\")"
   ]
  },
  {
   "cell_type": "code",
   "execution_count": 168,
   "id": "30556473",
   "metadata": {},
   "outputs": [
    {
     "name": "stdout",
     "output_type": "stream",
     "text": [
      "Most laptops have 15.6 inches, which make 50.78% of the total laptops\n"
     ]
    }
   ],
   "source": [
    "print('Most laptops have 15.6 inches, which make {:.2f}% of the total laptops'.format(len(df1[df1['inches']==15.6])*100/len(df1)))"
   ]
  },
  {
   "cell_type": "code",
   "execution_count": 169,
   "id": "8797b5d5",
   "metadata": {},
   "outputs": [
    {
     "data": {
      "text/plain": [
       "[15.6, 14.0, 17.3, 13.3, 12.5, 11.6]"
      ]
     },
     "execution_count": 169,
     "metadata": {},
     "output_type": "execute_result"
    }
   ],
   "source": [
    "# Most used laptops based on inches\n",
    "inches_list = df[\"inches\"].value_counts().index[:6].tolist()\n",
    "inches_list"
   ]
  },
  {
   "cell_type": "code",
   "execution_count": 170,
   "id": "512b3776",
   "metadata": {},
   "outputs": [],
   "source": [
    "df_clean = df_clean[df_clean['inches'].isin(inches_list)]"
   ]
  },
  {
   "cell_type": "code",
   "execution_count": 171,
   "id": "dabff41c",
   "metadata": {},
   "outputs": [
    {
     "data": {
      "text/plain": [
       "(1234, 20)"
      ]
     },
     "execution_count": 171,
     "metadata": {},
     "output_type": "execute_result"
    }
   ],
   "source": [
    "df_clean.shape"
   ]
  },
  {
   "cell_type": "code",
   "execution_count": 172,
   "id": "7f6ca4d7",
   "metadata": {},
   "outputs": [
    {
     "data": {
      "image/png": "[encoded data removed]",
      "text/plain": [
       "<Figure size 1000x500 with 1 Axes>"
      ]
     },
     "metadata": {},
     "output_type": "display_data"
    }
   ],
   "source": [
    "countPlot(df_clean, \"inches\",\"Number of laptops by inches\")"
   ]
  },
  {
   "cell_type": "code",
   "execution_count": 173,
   "id": "8997c67d",
   "metadata": {},
   "outputs": [
    {
     "name": "stdout",
     "output_type": "stream",
     "text": [
      "We have removed 40 outliers\n"
     ]
    }
   ],
   "source": [
    "print(\"We have removed {} outliers\".format(len(df1) - len(df_clean)))"
   ]
  },
  {
   "cell_type": "markdown",
   "id": "765b1252",
   "metadata": {},
   "source": [
    "### How is weight distributed among the laptops?"
   ]
  },
  {
   "cell_type": "code",
   "execution_count": 174,
   "id": "6044cc0e",
   "metadata": {},
   "outputs": [
    {
     "data": {
      "image/png": "[encoded data removed]",
      "text/plain": [
       "<Figure size 800x500 with 2 Axes>"
      ]
     },
     "metadata": {},
     "output_type": "display_data"
    }
   ],
   "source": [
    "num_plot(df_clean, \"weight(KG)\", \"Weight distribution among laptops\", 'kg')"
   ]
  },
  {
   "cell_type": "markdown",
   "id": "eec52bd6",
   "metadata": {},
   "source": [
    "### How is price distribute among laptops?"
   ]
  },
  {
   "cell_type": "code",
   "execution_count": 176,
   "id": "f9f03036",
   "metadata": {},
   "outputs": [
    {
     "data": {
      "image/png": "[encoded data removed]",
      "text/plain": [
       "<Figure size 800x500 with 2 Axes>"
      ]
     },
     "metadata": {},
     "output_type": "display_data"
    }
   ],
   "source": [
    "num_plot(df_clean, \"price\", \"Price distribution among laptops\", \"€\")"
   ]
  },
  {
   "cell_type": "markdown",
   "id": "9e8b0279",
   "metadata": {},
   "source": [
    "There are a very few laptops over 4000 euros"
   ]
  },
  {
   "cell_type": "code",
   "execution_count": 178,
   "id": "5bdc01dc",
   "metadata": {},
   "outputs": [
    {
     "data": {
      "image/png": "[encoded data removed]",
      "text/plain": [
       "<Figure size 640x480 with 1 Axes>"
      ]
     },
     "metadata": {},
     "output_type": "display_data"
    }
   ],
   "source": [
    "sns.boxplot(x='typename', y='price', data=df[df['price']>3000], hue='cpu_brand');"
   ]
  },
  {
   "cell_type": "code",
   "execution_count": 184,
   "id": "2b659de9",
   "metadata": {},
   "outputs": [
    {
     "data": {
      "text/html": [
       "<div>\n",
       "<style scoped>\n",
       "    .dataframe tbody tr th:only-of-type {\n",
       "        vertical-align: middle;\n",
       "    }\n",
       "\n",
       "    .dataframe tbody tr th {\n",
       "        vertical-align: top;\n",
       "    }\n",
       "\n",
       "    .dataframe thead th {\n",
       "        text-align: right;\n",
       "    }\n",
       "</style>\n",
       "<table border=\"1\" class=\"dataframe\">\n",
       "  <thead>\n",
       "    <tr style=\"text-align: right;\">\n",
       "      <th></th>\n",
       "      <th>company</th>\n",
       "      <th>product</th>\n",
       "      <th>typename</th>\n",
       "      <th>inches</th>\n",
       "      <th>cpu</th>\n",
       "      <th>ram(GB)</th>\n",
       "      <th>gpu</th>\n",
       "      <th>os</th>\n",
       "      <th>weight(KG)</th>\n",
       "      <th>price</th>\n",
       "      <th>resolution</th>\n",
       "      <th>screentype</th>\n",
       "      <th>touchscreen</th>\n",
       "      <th>cpu_freq(GHz)</th>\n",
       "      <th>memory_1(GB)</th>\n",
       "      <th>memory_1_type</th>\n",
       "      <th>memory_2(GB)</th>\n",
       "      <th>memory_2_type</th>\n",
       "      <th>cpu_brand</th>\n",
       "      <th>gpu_brand</th>\n",
       "    </tr>\n",
       "  </thead>\n",
       "  <tbody>\n",
       "    <tr>\n",
       "      <th>196</th>\n",
       "      <td>Razer</td>\n",
       "      <td>Blade Pro</td>\n",
       "      <td>Gaming</td>\n",
       "      <td>17.3</td>\n",
       "      <td>Intel Core i7 7820HK</td>\n",
       "      <td>32</td>\n",
       "      <td>Nvidia GeForce GTX 1080</td>\n",
       "      <td>Windows 10</td>\n",
       "      <td>3.49</td>\n",
       "      <td>6099.0</td>\n",
       "      <td>3840x2160</td>\n",
       "      <td>NaN</td>\n",
       "      <td>1.0</td>\n",
       "      <td>2.9</td>\n",
       "      <td>1000.0</td>\n",
       "      <td>SSD</td>\n",
       "      <td>0.0</td>\n",
       "      <td>NaN</td>\n",
       "      <td>Intel</td>\n",
       "      <td>Nvidia</td>\n",
       "    </tr>\n",
       "    <tr>\n",
       "      <th>610</th>\n",
       "      <td>Lenovo</td>\n",
       "      <td>Thinkpad P51</td>\n",
       "      <td>Notebook</td>\n",
       "      <td>15.6</td>\n",
       "      <td>Intel Xeon E3-1535M v6</td>\n",
       "      <td>32</td>\n",
       "      <td>Nvidia Quadro M2200M</td>\n",
       "      <td>Windows 10</td>\n",
       "      <td>2.50</td>\n",
       "      <td>4899.0</td>\n",
       "      <td>3840x2160</td>\n",
       "      <td>IPSPanel</td>\n",
       "      <td>0.0</td>\n",
       "      <td>3.1</td>\n",
       "      <td>1000.0</td>\n",
       "      <td>SSD</td>\n",
       "      <td>0.0</td>\n",
       "      <td>NaN</td>\n",
       "      <td>Intel</td>\n",
       "      <td>Nvidia</td>\n",
       "    </tr>\n",
       "    <tr>\n",
       "      <th>749</th>\n",
       "      <td>HP</td>\n",
       "      <td>Zbook 17</td>\n",
       "      <td>Workstation</td>\n",
       "      <td>17.3</td>\n",
       "      <td>Intel Xeon E3-1535M v5</td>\n",
       "      <td>16</td>\n",
       "      <td>Nvidia Quadro M2000M</td>\n",
       "      <td>Windows 7</td>\n",
       "      <td>3.00</td>\n",
       "      <td>4389.0</td>\n",
       "      <td>1920x1080</td>\n",
       "      <td>IPSPanel</td>\n",
       "      <td>0.0</td>\n",
       "      <td>2.9</td>\n",
       "      <td>256.0</td>\n",
       "      <td>SSD</td>\n",
       "      <td>0.0</td>\n",
       "      <td>NaN</td>\n",
       "      <td>Intel</td>\n",
       "      <td>Nvidia</td>\n",
       "    </tr>\n",
       "    <tr>\n",
       "      <th>830</th>\n",
       "      <td>Razer</td>\n",
       "      <td>Blade Pro</td>\n",
       "      <td>Gaming</td>\n",
       "      <td>17.3</td>\n",
       "      <td>Intel Core i7 7820HK</td>\n",
       "      <td>32</td>\n",
       "      <td>Nvidia GeForce GTX 1080</td>\n",
       "      <td>Windows 10</td>\n",
       "      <td>3.49</td>\n",
       "      <td>5499.0</td>\n",
       "      <td>3840x2160</td>\n",
       "      <td>NaN</td>\n",
       "      <td>1.0</td>\n",
       "      <td>2.9</td>\n",
       "      <td>512.0</td>\n",
       "      <td>SSD</td>\n",
       "      <td>0.0</td>\n",
       "      <td>NaN</td>\n",
       "      <td>Intel</td>\n",
       "      <td>Nvidia</td>\n",
       "    </tr>\n",
       "  </tbody>\n",
       "</table>\n",
       "</div>"
      ],
      "text/plain": [
       "    company       product     typename  inches                      cpu  \\\n",
       "196   Razer     Blade Pro       Gaming    17.3    Intel Core i7 7820HK    \n",
       "610  Lenovo  Thinkpad P51     Notebook    15.6  Intel Xeon E3-1535M v6    \n",
       "749      HP      Zbook 17  Workstation    17.3  Intel Xeon E3-1535M v5    \n",
       "830   Razer     Blade Pro       Gaming    17.3    Intel Core i7 7820HK    \n",
       "\n",
       "     ram(GB)                      gpu          os  weight(KG)   price  \\\n",
       "196       32  Nvidia GeForce GTX 1080  Windows 10        3.49  6099.0   \n",
       "610       32     Nvidia Quadro M2200M  Windows 10        2.50  4899.0   \n",
       "749       16     Nvidia Quadro M2000M   Windows 7        3.00  4389.0   \n",
       "830       32  Nvidia GeForce GTX 1080  Windows 10        3.49  5499.0   \n",
       "\n",
       "    resolution screentype  touchscreen  cpu_freq(GHz)  memory_1(GB)  \\\n",
       "196  3840x2160        NaN          1.0            2.9        1000.0   \n",
       "610  3840x2160   IPSPanel          0.0            3.1        1000.0   \n",
       "749  1920x1080   IPSPanel          0.0            2.9         256.0   \n",
       "830  3840x2160        NaN          1.0            2.9         512.0   \n",
       "\n",
       "    memory_1_type  memory_2(GB) memory_2_type cpu_brand gpu_brand  \n",
       "196           SSD           0.0           NaN     Intel    Nvidia  \n",
       "610           SSD           0.0           NaN     Intel    Nvidia  \n",
       "749           SSD           0.0           NaN     Intel    Nvidia  \n",
       "830           SSD           0.0           NaN     Intel    Nvidia  "
      ]
     },
     "execution_count": 184,
     "metadata": {},
     "output_type": "execute_result"
    }
   ],
   "source": [
    "df[df['price']>4000] # The most expensive laptop is Razer Blade Pro and it's a gaming laptop"
   ]
  },
  {
   "cell_type": "markdown",
   "id": "5fd743c7",
   "metadata": {},
   "source": [
    "### How is RAM distributed among laptops?"
   ]
  },
  {
   "cell_type": "code",
   "execution_count": 185,
   "id": "29671670",
   "metadata": {},
   "outputs": [
    {
     "data": {
      "image/png": "[encoded data removed]",
      "text/plain": [
       "<Figure size 800x500 with 2 Axes>"
      ]
     },
     "metadata": {},
     "output_type": "display_data"
    }
   ],
   "source": [
    "num_plot(df_clean, \"ram(GB)\", \"RAM distribution among laptops\", \"GB\")"
   ]
  },
  {
   "cell_type": "code",
   "execution_count": 186,
   "id": "475478ec",
   "metadata": {},
   "outputs": [
    {
     "name": "stdout",
     "output_type": "stream",
     "text": [
      "Most laptops have 8 GB RAM, which make 48.12% of the total laptops\n"
     ]
    }
   ],
   "source": [
    "print('Most laptops have 8 GB RAM, which make {:.2f}% of the total laptops'.format(len(df[df['ram(GB)']==8])*100/len(df)))"
   ]
  },
  {
   "cell_type": "markdown",
   "id": "fa89a05b",
   "metadata": {},
   "source": [
    "### How is CPU frequency Distributed among laptops?"
   ]
  },
  {
   "cell_type": "code",
   "execution_count": 188,
   "id": "1a4cad18",
   "metadata": {},
   "outputs": [
    {
     "data": {
      "image/png": "[encoded data removed]",
      "text/plain": [
       "<Figure size 800x500 with 2 Axes>"
      ]
     },
     "metadata": {},
     "output_type": "display_data"
    }
   ],
   "source": [
    "num_plot(df_clean, \"cpu_freq(GHz)\", \"cpu frequency distribution among laptops\", \"GHz\")"
   ]
  },
  {
   "cell_type": "code",
   "execution_count": 189,
   "id": "5ca49e10",
   "metadata": {},
   "outputs": [
    {
     "name": "stdout",
     "output_type": "stream",
     "text": [
      "Most laptops have 2.5 GHz CPU, which make 22.37% of the total laptops\n"
     ]
    }
   ],
   "source": [
    "print('Most laptops have 2.5 GHz CPU, which make {}% of the total laptops'.format(np.round(len(df[df['cpu_freq(GHz)']==2.5])*100/len(df),2)))"
   ]
  },
  {
   "cell_type": "code",
   "execution_count": 191,
   "id": "82961c2a",
   "metadata": {},
   "outputs": [
    {
     "data": {
      "image/png": "[encoded data removed]",
      "text/plain": [
       "<Figure size 800x500 with 1 Axes>"
      ]
     },
     "metadata": {},
     "output_type": "display_data"
    }
   ],
   "source": [
    "fig, ax  = plt.subplots(figsize=(8,5))\n",
    "ax=sns.countplot(x='memory_1(GB)', data=df_clean, hue='memory_1_type')\n",
    "ax.set_xticklabels(ax.get_xticklabels(), rotation=90)\n",
    "ax.set_xlabel('First Hard Drive memory storage (GB)')\n",
    "plt.title('First Hard Drive Capacity Distribution')\n",
    "plt.legend(loc='upper left', ncol=1, fontsize=15, fancybox=True, shadow=True, frameon=True)\n",
    "plt.show()"
   ]
  },
  {
   "cell_type": "markdown",
   "id": "bf77987b",
   "metadata": {},
   "source": [
    "Most of the laptops are 256GB storage and are SSD, over 1TB memory Storage they are HDD"
   ]
  },
  {
   "cell_type": "code",
   "execution_count": 193,
   "id": "a6ba2da0",
   "metadata": {},
   "outputs": [
    {
     "data": {
      "image/png": "[encoded data removed]",
      "text/plain": [
       "<Figure size 800x500 with 1 Axes>"
      ]
     },
     "metadata": {},
     "output_type": "display_data"
    }
   ],
   "source": [
    "fig, ax  = plt.subplots(figsize=(8,5))\n",
    "ax=sns.countplot(x='memory_2(GB)', data=df_clean, hue='memory_2_type')\n",
    "ax.set_xticklabels(ax.get_xticklabels(), rotation=90)\n",
    "ax.set_xlabel('Second Hard Drive memory storage (GB)')\n",
    "plt.title('Second Hard Drive Capacity Distribution')\n",
    "plt.legend(loc='upper left', ncol=1, fontsize=15, fancybox=True, shadow=True, frameon=True)\n",
    "plt.show()"
   ]
  },
  {
   "cell_type": "markdown",
   "id": "8a810814",
   "metadata": {},
   "source": [
    "Most of the second drive memory storage are 1TB HDD"
   ]
  },
  {
   "cell_type": "markdown",
   "id": "77856c4d",
   "metadata": {},
   "source": [
    "### What are the top 15 most common GPUs?"
   ]
  },
  {
   "cell_type": "code",
   "execution_count": 201,
   "id": "ad0b3be3",
   "metadata": {},
   "outputs": [],
   "source": [
    "gpu_list = df_clean['gpu'].value_counts()[:15].index.tolist()"
   ]
  },
  {
   "cell_type": "code",
   "execution_count": 203,
   "id": "9b410bde",
   "metadata": {},
   "outputs": [
    {
     "data": {
      "image/png": "[encoded data removed]",
      "text/plain": [
       "<Figure size 800x600 with 1 Axes>"
      ]
     },
     "metadata": {},
     "output_type": "display_data"
    }
   ],
   "source": [
    "plt.figure(figsize=(8,6))\n",
    "ax=sns.countplot(x='gpu', data=df_clean[df_clean['gpu'].isin(gpu_list)], order = gpu_list, palette='viridis_r')\n",
    "plt.xticks(rotation=80);\n",
    "ax.bar_label(ax.containers[0])\n",
    "plt.title('TOP 15 common GPUs')\n",
    "plt.xlabel('')\n",
    "plt.show()"
   ]
  },
  {
   "cell_type": "markdown",
   "id": "2b91f3e7",
   "metadata": {},
   "source": [
    "The most common GPUs are Intel HD Graphics 620, Intel HD Graphics 520"
   ]
  },
  {
   "cell_type": "code",
   "execution_count": 204,
   "id": "61d07f1c",
   "metadata": {},
   "outputs": [],
   "source": [
    "cpu_list = df_clean['cpu'].value_counts()[:15].index.tolist()"
   ]
  },
  {
   "cell_type": "code",
   "execution_count": 205,
   "id": "a0983903",
   "metadata": {},
   "outputs": [
    {
     "data": {
      "image/png": "[encoded data removed]",
      "text/plain": [
       "<Figure size 800x600 with 1 Axes>"
      ]
     },
     "metadata": {},
     "output_type": "display_data"
    }
   ],
   "source": [
    "plt.figure(figsize=(8,6))\n",
    "ax=sns.countplot(x='cpu', data=df_clean[df_clean['cpu'].isin(cpu_list)], order = cpu_list, palette='viridis')\n",
    "plt.xticks(rotation=80);\n",
    "ax.bar_label(ax.containers[0])\n",
    "plt.title('TOP 15 common CPUs')\n",
    "plt.xlabel('')\n",
    "plt.show()"
   ]
  },
  {
   "cell_type": "markdown",
   "id": "975474eb",
   "metadata": {},
   "source": [
    "- The most common CPU's are ['Intel Core i5 7200U ', 'Intel Core i7 7700HQ ', 'Intel Core i7 7500U ']\n",
    "- Out of the 15 CPUs, 10 are series 'U' (low voltage) , 3 are series 'HQ' (high performance) and 2 are Celerons (low-end)"
   ]
  },
  {
   "cell_type": "code",
   "execution_count": 210,
   "id": "96bafa82",
   "metadata": {},
   "outputs": [
    {
     "data": {
      "text/plain": [
       "company\n",
       "Dell         291\n",
       "Lenovo       289\n",
       "HP           268\n",
       "Asus         152\n",
       "Acer         101\n",
       "MSI           54\n",
       "Toshiba       48\n",
       "Apple         21\n",
       "Samsung        8\n",
       "Razer          7\n",
       "Mediacom       7\n",
       "Microsoft      6\n",
       "Xiaomi         4\n",
       "Vero           4\n",
       "Chuwi          3\n",
       "Google         3\n",
       "Fujitsu        3\n",
       "LG             3\n",
       "Huawei         2\n",
       "Name: count, dtype: int64"
      ]
     },
     "execution_count": 210,
     "metadata": {},
     "output_type": "execute_result"
    }
   ],
   "source": [
    "df[\"company\"].value_counts()"
   ]
  },
  {
   "cell_type": "code",
   "execution_count": 211,
   "id": "45b7f4f8",
   "metadata": {},
   "outputs": [
    {
     "data": {
      "text/plain": [
       "['Dell', 'Lenovo', 'HP', 'Asus', 'Acer', 'MSI', 'Toshiba', 'Apple']"
      ]
     },
     "execution_count": 211,
     "metadata": {},
     "output_type": "execute_result"
    }
   ],
   "source": [
    "# There are companies with very less laptops\n",
    "company_list = df['company'].value_counts().index[:8].tolist()\n",
    "company_list"
   ]
  },
  {
   "cell_type": "code",
   "execution_count": 215,
   "id": "41e19e91",
   "metadata": {},
   "outputs": [
    {
     "data": {
      "image/png": "[encoded data removed]",
      "text/plain": [
       "<Figure size 900x500 with 1 Axes>"
      ]
     },
     "metadata": {},
     "output_type": "display_data"
    }
   ],
   "source": [
    "plt.figure(figsize=(9,5))\n",
    "ax=sns.barplot(x='company', y='price', data=df_clean[df_clean['company'].isin(company_list)],\n",
    "                order=company_list, \n",
    "                palette='Spectral', \n",
    "                edgecolor=\"black\")\n",
    "plt.xticks(rotation=80);\n",
    "ax.bar_label(ax.containers[0])\n",
    "plt.title('Average price of laptops by company')\n",
    "plt.show()"
   ]
  },
  {
   "cell_type": "markdown",
   "id": "c999dfe7",
   "metadata": {},
   "source": [
    "- MSI laptops are on average the most expensive, with an average price of 1708.72\n",
    "- Apple laptops are the second most expensive laptops and Toshiba's are 3rd\n",
    "- Acer are the cheapest, with an average price of 626\n",
    "- Laptops from Dell, Lenovo, HP and Asus have, on average, a price around 1000"
   ]
  },
  {
   "cell_type": "code",
   "execution_count": 222,
   "id": "30e2fcca",
   "metadata": {},
   "outputs": [
    {
     "data": {
      "image/png": "[encoded data removed]",
      "text/plain": [
       "<Figure size 600x500 with 2 Axes>"
      ]
     },
     "metadata": {},
     "output_type": "display_data"
    }
   ],
   "source": [
    "plt.figure(figsize=(6,5))\n",
    "sns.heatmap(df_clean.corr(numeric_only=True), cmap='RdBu', annot=True, vmin=-1, vmax=1)\n",
    "plt.title('Correlation Matrix')\n",
    "plt.show()"
   ]
  },
  {
   "cell_type": "markdown",
   "id": "2a12105e",
   "metadata": {},
   "source": [
    "Insights from the correlation matrix:\n",
    "\n",
    "- RAM has a high positive correlation with price (+0.75): more expensive laptops tends to have a higher pric\n",
    "- CPU Freq has a quite moderate positive correlation with the price (+0.45)\n",
    "- Inches and Weight have a high positive correlation (+0.82) since laptops with bigger screens tend to be heavier."
   ]
  },
  {
   "cell_type": "code",
   "execution_count": 223,
   "id": "48955a08",
   "metadata": {},
   "outputs": [],
   "source": [
    "# Both Inches and Weight are highly correlated we can remove one of them\n",
    "df_clean = df_clean.drop(\"weight(KG)\",axis=1)"
   ]
  },
  {
   "cell_type": "code",
   "execution_count": 224,
   "id": "56772d93",
   "metadata": {},
   "outputs": [
    {
     "data": {
      "text/html": [
       "<div>\n",
       "<style scoped>\n",
       "    .dataframe tbody tr th:only-of-type {\n",
       "        vertical-align: middle;\n",
       "    }\n",
       "\n",
       "    .dataframe tbody tr th {\n",
       "        vertical-align: top;\n",
       "    }\n",
       "\n",
       "    .dataframe thead th {\n",
       "        text-align: right;\n",
       "    }\n",
       "</style>\n",
       "<table border=\"1\" class=\"dataframe\">\n",
       "  <thead>\n",
       "    <tr style=\"text-align: right;\">\n",
       "      <th></th>\n",
       "      <th>company</th>\n",
       "      <th>product</th>\n",
       "      <th>typename</th>\n",
       "      <th>inches</th>\n",
       "      <th>cpu</th>\n",
       "      <th>ram(GB)</th>\n",
       "      <th>gpu</th>\n",
       "      <th>os</th>\n",
       "      <th>price</th>\n",
       "      <th>resolution</th>\n",
       "      <th>screentype</th>\n",
       "      <th>touchscreen</th>\n",
       "      <th>cpu_freq(GHz)</th>\n",
       "      <th>memory_1(GB)</th>\n",
       "      <th>memory_1_type</th>\n",
       "      <th>memory_2(GB)</th>\n",
       "      <th>memory_2_type</th>\n",
       "      <th>cpu_brand</th>\n",
       "      <th>gpu_brand</th>\n",
       "    </tr>\n",
       "  </thead>\n",
       "  <tbody>\n",
       "    <tr>\n",
       "      <th>0</th>\n",
       "      <td>Apple</td>\n",
       "      <td>MacBook Pro</td>\n",
       "      <td>Ultrabook</td>\n",
       "      <td>13.3</td>\n",
       "      <td>Intel Core i5</td>\n",
       "      <td>8</td>\n",
       "      <td>Intel Iris Plus Graphics 640</td>\n",
       "      <td>macOS</td>\n",
       "      <td>1339.69</td>\n",
       "      <td>2560x1600</td>\n",
       "      <td>IPSPanelRetinaDisplay</td>\n",
       "      <td>0.0</td>\n",
       "      <td>2.3</td>\n",
       "      <td>128.0</td>\n",
       "      <td>SSD</td>\n",
       "      <td>0.0</td>\n",
       "      <td>NaN</td>\n",
       "      <td>Intel</td>\n",
       "      <td>Intel</td>\n",
       "    </tr>\n",
       "    <tr>\n",
       "      <th>1</th>\n",
       "      <td>Apple</td>\n",
       "      <td>Macbook Air</td>\n",
       "      <td>Ultrabook</td>\n",
       "      <td>13.3</td>\n",
       "      <td>Intel Core i5</td>\n",
       "      <td>8</td>\n",
       "      <td>Intel HD Graphics 6000</td>\n",
       "      <td>macOS</td>\n",
       "      <td>898.94</td>\n",
       "      <td>1440x900</td>\n",
       "      <td>NaN</td>\n",
       "      <td>0.0</td>\n",
       "      <td>1.8</td>\n",
       "      <td>128.0</td>\n",
       "      <td>FlashStorage</td>\n",
       "      <td>0.0</td>\n",
       "      <td>NaN</td>\n",
       "      <td>Intel</td>\n",
       "      <td>Intel</td>\n",
       "    </tr>\n",
       "    <tr>\n",
       "      <th>2</th>\n",
       "      <td>HP</td>\n",
       "      <td>250 G6</td>\n",
       "      <td>Notebook</td>\n",
       "      <td>15.6</td>\n",
       "      <td>Intel Core i5 7200U</td>\n",
       "      <td>8</td>\n",
       "      <td>Intel HD Graphics 620</td>\n",
       "      <td>No OS</td>\n",
       "      <td>575.00</td>\n",
       "      <td>1920x1080</td>\n",
       "      <td>NaN</td>\n",
       "      <td>0.0</td>\n",
       "      <td>2.5</td>\n",
       "      <td>256.0</td>\n",
       "      <td>SSD</td>\n",
       "      <td>0.0</td>\n",
       "      <td>NaN</td>\n",
       "      <td>Intel</td>\n",
       "      <td>Intel</td>\n",
       "    </tr>\n",
       "    <tr>\n",
       "      <th>4</th>\n",
       "      <td>Apple</td>\n",
       "      <td>MacBook Pro</td>\n",
       "      <td>Ultrabook</td>\n",
       "      <td>13.3</td>\n",
       "      <td>Intel Core i5</td>\n",
       "      <td>8</td>\n",
       "      <td>Intel Iris Plus Graphics 650</td>\n",
       "      <td>macOS</td>\n",
       "      <td>1803.60</td>\n",
       "      <td>2560x1600</td>\n",
       "      <td>IPSPanelRetinaDisplay</td>\n",
       "      <td>0.0</td>\n",
       "      <td>3.1</td>\n",
       "      <td>256.0</td>\n",
       "      <td>SSD</td>\n",
       "      <td>0.0</td>\n",
       "      <td>NaN</td>\n",
       "      <td>Intel</td>\n",
       "      <td>Intel</td>\n",
       "    </tr>\n",
       "    <tr>\n",
       "      <th>5</th>\n",
       "      <td>Acer</td>\n",
       "      <td>Aspire 3</td>\n",
       "      <td>Notebook</td>\n",
       "      <td>15.6</td>\n",
       "      <td>AMD A9-Series 9420</td>\n",
       "      <td>4</td>\n",
       "      <td>AMD Radeon R5</td>\n",
       "      <td>Windows 10</td>\n",
       "      <td>400.00</td>\n",
       "      <td>1366x768</td>\n",
       "      <td>NaN</td>\n",
       "      <td>0.0</td>\n",
       "      <td>3.0</td>\n",
       "      <td>500.0</td>\n",
       "      <td>HDD</td>\n",
       "      <td>0.0</td>\n",
       "      <td>NaN</td>\n",
       "      <td>AMD</td>\n",
       "      <td>AMD</td>\n",
       "    </tr>\n",
       "  </tbody>\n",
       "</table>\n",
       "</div>"
      ],
      "text/plain": [
       "  company      product   typename  inches                   cpu  ram(GB)  \\\n",
       "0   Apple  MacBook Pro  Ultrabook    13.3        Intel Core i5         8   \n",
       "1   Apple  Macbook Air  Ultrabook    13.3        Intel Core i5         8   \n",
       "2      HP       250 G6   Notebook    15.6  Intel Core i5 7200U         8   \n",
       "4   Apple  MacBook Pro  Ultrabook    13.3        Intel Core i5         8   \n",
       "5    Acer     Aspire 3   Notebook    15.6   AMD A9-Series 9420         4   \n",
       "\n",
       "                            gpu          os    price resolution  \\\n",
       "0  Intel Iris Plus Graphics 640       macOS  1339.69  2560x1600   \n",
       "1        Intel HD Graphics 6000       macOS   898.94   1440x900   \n",
       "2         Intel HD Graphics 620       No OS   575.00  1920x1080   \n",
       "4  Intel Iris Plus Graphics 650       macOS  1803.60  2560x1600   \n",
       "5                 AMD Radeon R5  Windows 10   400.00   1366x768   \n",
       "\n",
       "              screentype  touchscreen  cpu_freq(GHz)  memory_1(GB)  \\\n",
       "0  IPSPanelRetinaDisplay          0.0            2.3         128.0   \n",
       "1                    NaN          0.0            1.8         128.0   \n",
       "2                    NaN          0.0            2.5         256.0   \n",
       "4  IPSPanelRetinaDisplay          0.0            3.1         256.0   \n",
       "5                    NaN          0.0            3.0         500.0   \n",
       "\n",
       "  memory_1_type  memory_2(GB) memory_2_type cpu_brand gpu_brand  \n",
       "0           SSD           0.0           NaN     Intel     Intel  \n",
       "1  FlashStorage           0.0           NaN     Intel     Intel  \n",
       "2           SSD           0.0           NaN     Intel     Intel  \n",
       "4           SSD           0.0           NaN     Intel     Intel  \n",
       "5           HDD           0.0           NaN       AMD       AMD  "
      ]
     },
     "execution_count": 224,
     "metadata": {},
     "output_type": "execute_result"
    }
   ],
   "source": [
    "df_clean.head()"
   ]
  },
  {
   "cell_type": "code",
   "execution_count": 226,
   "id": "5fb37f16",
   "metadata": {},
   "outputs": [],
   "source": [
    "df_clean.to_csv('laptop-clean.csv', index=False)"
   ]
  },
  {
   "cell_type": "code",
   "execution_count": null,
   "id": "fd62e8fa",
   "metadata": {},
   "outputs": [],
   "source": []
  }
 ],
 "metadata": {
  "kernelspec": {
   "display_name": "Python 3 (ipykernel)",
   "language": "python",
   "name": "python3"
  },
  "language_info": {
   "codemirror_mode": {
    "name": "ipython",
    "version": 3
   },
   "file_extension": ".py",
   "mimetype": "text/x-python",
   "name": "python",
   "nbconvert_exporter": "python",
   "pygments_lexer": "ipython3",
   "version": "3.10.9"
  }
 },
 "nbformat": 4,
 "nbformat_minor": 5
}
